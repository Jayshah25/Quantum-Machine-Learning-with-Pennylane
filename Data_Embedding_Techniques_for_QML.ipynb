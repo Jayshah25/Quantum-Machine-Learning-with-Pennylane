{
  "nbformat": 4,
  "nbformat_minor": 0,
  "metadata": {
    "colab": {
      "provenance": [],
      "toc_visible": true,
      "collapsed_sections": [
        "jHSYQIsIaveo",
        "aXt-F2ljlzUs",
        "T2CHK-mgE4CY",
        "WDPKXcXF3pXK",
        "dUGI3M0vApD-",
        "Jdqpb06Tf3KP",
        "1KSgFcjphbLR",
        "UvdMWGxEjVN3"
      ],
      "authorship_tag": "ABX9TyOOmUtoRyikwU2ABnb6tBGl"
    },
    "kernelspec": {
      "name": "python3",
      "display_name": "Python 3"
    },
    "language_info": {
      "name": "python"
    }
  },
  "cells": [
    {
      "cell_type": "markdown",
      "source": [
        "# Data Embedding Techniques for Quantum Machine Learning"
      ],
      "metadata": {
        "id": "4SLGyiNnaJki"
      }
    },
    {
      "cell_type": "markdown",
      "source": [
        "## Installation"
      ],
      "metadata": {
        "id": "jHSYQIsIaveo"
      }
    },
    {
      "cell_type": "code",
      "source": [
        "!pip install pennylane"
      ],
      "metadata": {
        "colab": {
          "base_uri": "https://localhost:8080/"
        },
        "id": "4sF_GQEYaply",
        "outputId": "b2eae9a3-b8a6-4e8d-be42-ceb457d53de7"
      },
      "execution_count": null,
      "outputs": [
        {
          "output_type": "stream",
          "name": "stdout",
          "text": [
            "Looking in indexes: https://pypi.org/simple, https://us-python.pkg.dev/colab-wheels/public/simple/\n",
            "Collecting pennylane\n",
            "  Downloading PennyLane-0.26.0-py3-none-any.whl (1.0 MB)\n",
            "\u001b[K     |████████████████████████████████| 1.0 MB 4.2 MB/s \n",
            "\u001b[?25hRequirement already satisfied: networkx in /usr/local/lib/python3.7/dist-packages (from pennylane) (2.6.3)\n",
            "Requirement already satisfied: numpy in /usr/local/lib/python3.7/dist-packages (from pennylane) (1.21.6)\n",
            "Collecting retworkx\n",
            "  Downloading retworkx-0.12.0-py3-none-any.whl (10 kB)\n",
            "Requirement already satisfied: autograd in /usr/local/lib/python3.7/dist-packages (from pennylane) (1.5)\n",
            "Collecting semantic-version>=2.7\n",
            "  Downloading semantic_version-2.10.0-py2.py3-none-any.whl (15 kB)\n",
            "Collecting pennylane-lightning>=0.26\n",
            "  Downloading PennyLane_Lightning-0.26.1-cp37-cp37m-manylinux_2_17_x86_64.manylinux2014_x86_64.whl (13.7 MB)\n",
            "\u001b[K     |████████████████████████████████| 13.7 MB 24.8 MB/s \n",
            "\u001b[?25hRequirement already satisfied: scipy in /usr/local/lib/python3.7/dist-packages (from pennylane) (1.7.3)\n",
            "Collecting autoray>=0.3.1\n",
            "  Downloading autoray-0.5.1-py3-none-any.whl (37 kB)\n",
            "Requirement already satisfied: cachetools in /usr/local/lib/python3.7/dist-packages (from pennylane) (4.2.4)\n",
            "Requirement already satisfied: appdirs in /usr/local/lib/python3.7/dist-packages (from pennylane) (1.4.4)\n",
            "Requirement already satisfied: toml in /usr/local/lib/python3.7/dist-packages (from pennylane) (0.10.2)\n",
            "Collecting ninja\n",
            "  Downloading ninja-1.11.1-py2.py3-none-manylinux_2_5_x86_64.manylinux1_x86_64.whl (143 kB)\n",
            "\u001b[K     |████████████████████████████████| 143 kB 47.6 MB/s \n",
            "\u001b[?25hRequirement already satisfied: future>=0.15.2 in /usr/local/lib/python3.7/dist-packages (from autograd->pennylane) (0.16.0)\n",
            "Collecting rustworkx==0.12.0\n",
            "  Downloading rustworkx-0.12.0-cp37-cp37m-manylinux_2_17_x86_64.manylinux2014_x86_64.whl (1.9 MB)\n",
            "\u001b[K     |████████████████████████████████| 1.9 MB 48.9 MB/s \n",
            "\u001b[?25hInstalling collected packages: rustworkx, ninja, semantic-version, retworkx, pennylane-lightning, autoray, pennylane\n",
            "Successfully installed autoray-0.5.1 ninja-1.11.1 pennylane-0.26.0 pennylane-lightning-0.26.1 retworkx-0.12.0 rustworkx-0.12.0 semantic-version-2.10.0\n"
          ]
        }
      ]
    },
    {
      "cell_type": "code",
      "source": [
        "import pennylane as qml\n",
        "from pennylane import numpy as np"
      ],
      "metadata": {
        "id": "WCICYysSbBfo"
      },
      "execution_count": null,
      "outputs": []
    },
    {
      "cell_type": "markdown",
      "source": [
        "## Basis Encoding"
      ],
      "metadata": {
        "id": "aXt-F2ljlzUs"
      }
    },
    {
      "cell_type": "markdown",
      "source": [
        "Data Type -> Integer/Binary Values"
      ],
      "metadata": {
        "id": "YnaH8Wy0l_PU"
      }
    },
    {
      "cell_type": "markdown",
      "source": [
        "Encodes $N$ binary features into a basis state of $n$ qubits."
      ],
      "metadata": {
        "id": "VDuA7KSY4nQm"
      }
    },
    {
      "cell_type": "markdown",
      "source": [
        "Transformation:\n",
        "\n",
        "[1,1] --> |11> \n",
        "\n",
        "(Binary Values) --> Basis State "
      ],
      "metadata": {
        "id": "WjZ-iunpmKCs"
      }
    },
    {
      "cell_type": "code",
      "source": [
        "# basis encoding\n",
        "wires = range(2) # set num_qubits\n",
        "basis_dev = qml.device(\"default.qubit\",wires)\n",
        "\n",
        "@qml.qnode(basis_dev)\n",
        "def basis_encoder(data):\n",
        "  qml.BasisEmbedding(data,wires)\n",
        "  return qml.state()"
      ],
      "metadata": {
        "id": "RPix-j5MbD6G"
      },
      "execution_count": null,
      "outputs": []
    },
    {
      "cell_type": "code",
      "source": [
        "basis_encoder(3)"
      ],
      "metadata": {
        "colab": {
          "base_uri": "https://localhost:8080/"
        },
        "id": "Jsv3vvkxpg3q",
        "outputId": "ab0be5da-156e-44c6-cbb9-440c6c33ee34"
      },
      "execution_count": null,
      "outputs": [
        {
          "output_type": "execute_result",
          "data": {
            "text/plain": [
              "tensor([0.+0.j, 0.+0.j, 0.+0.j, 1.+0.j], requires_grad=True)"
            ]
          },
          "metadata": {},
          "execution_count": 5
        }
      ]
    },
    {
      "cell_type": "markdown",
      "source": [
        "## Amplitude Encoding"
      ],
      "metadata": {
        "id": "T2CHK-mgE4CY"
      }
    },
    {
      "cell_type": "markdown",
      "source": [
        "Data Type --> Integer/Float/Complex"
      ],
      "metadata": {
        "id": "TD2_8uH5Gt40"
      }
    },
    {
      "cell_type": "markdown",
      "source": [
        "Amplitude embedding encodes a normalized \n",
        "$2^n$\n",
        "-dimensional feature vector into the state of \n",
        "$n$\n",
        " qubits"
      ],
      "metadata": {
        "id": "LzRplpD7G3q0"
      }
    },
    {
      "cell_type": "code",
      "source": [
        "# amplitude encoding\n",
        "wires = range(2) # set num_qubits\n",
        "amp_dev = qml.device(\"default.qubit\",wires)\n",
        "\n",
        "@qml.qnode(amp_dev)\n",
        "def amp_encoder(data):\n",
        "  qml.AmplitudeEmbedding(data,wires)\n",
        "  return qml.state()"
      ],
      "metadata": {
        "id": "yeLfhxnRp6op"
      },
      "execution_count": null,
      "outputs": []
    },
    {
      "cell_type": "code",
      "source": [
        "amp_encoder([1/np.sqrt(2),1/np.sqrt(2),0,0])"
      ],
      "metadata": {
        "id": "YDI95kcDHgB-",
        "colab": {
          "base_uri": "https://localhost:8080/"
        },
        "outputId": "68aa2b0d-fb99-498e-e079-0b45d98d597f"
      },
      "execution_count": null,
      "outputs": [
        {
          "output_type": "execute_result",
          "data": {
            "text/plain": [
              "tensor([0.70710678+0.j, 0.70710678+0.j, 0.        +0.j, 0.        +0.j], requires_grad=True)"
            ]
          },
          "metadata": {},
          "execution_count": 7
        }
      ]
    },
    {
      "cell_type": "markdown",
      "source": [
        "* When size(data) $\\neq 2^n $"
      ],
      "metadata": {
        "id": "UlCv3RmeVeWo"
      }
    },
    {
      "cell_type": "code",
      "source": [
        "wires = range(2) # set num_qubits\n",
        "amp_dev = qml.device(\"default.qubit\",wires)\n",
        "\n",
        "@qml.qnode(amp_dev)\n",
        "def amp_encoder1(data):\n",
        "  qml.AmplitudeEmbedding(data,wires,pad_with=0)\n",
        "  return qml.state()"
      ],
      "metadata": {
        "id": "e69c036SWGDI"
      },
      "execution_count": null,
      "outputs": []
    },
    {
      "cell_type": "code",
      "source": [
        "amp_encoder1([1/np.sqrt(2),0,1/np.sqrt(2)])"
      ],
      "metadata": {
        "colab": {
          "base_uri": "https://localhost:8080/"
        },
        "id": "J73VL7RmWXvq",
        "outputId": "b7268357-3513-4765-bfec-868bfc426f51"
      },
      "execution_count": null,
      "outputs": [
        {
          "output_type": "execute_result",
          "data": {
            "text/plain": [
              "tensor([0.70710678+0.j, 0.        +0.j, 0.70710678+0.j, 0.        +0.j], requires_grad=True)"
            ]
          },
          "metadata": {},
          "execution_count": 9
        }
      ]
    },
    {
      "cell_type": "markdown",
      "source": [
        "* When Born's rule is not satisfied:\n",
        "\n",
        "  * $|\\alpha_1|^2 + |\\alpha_2|^2 + ..... + |\\alpha_N|^2 \\neq 1 $"
      ],
      "metadata": {
        "id": "TriGM7CS17nD"
      }
    },
    {
      "cell_type": "code",
      "source": [
        "wires = range(2) # set num_qubits\n",
        "amp_dev = qml.device(\"default.qubit\",wires)\n",
        "\n",
        "@qml.qnode(amp_dev)\n",
        "def amp_encoder2(data):\n",
        "  qml.AmplitudeEmbedding(data,wires,normalize=True)\n",
        "  return qml.state()"
      ],
      "metadata": {
        "id": "DwkgsiF-2ZaN"
      },
      "execution_count": null,
      "outputs": []
    },
    {
      "cell_type": "code",
      "source": [
        "amp_encoder2([1.5+1j,2.5,1,1])"
      ],
      "metadata": {
        "colab": {
          "base_uri": "https://localhost:8080/"
        },
        "id": "P5ortUHR2qJC",
        "outputId": "7f61d42d-90fc-4a2b-b171-696b1538627a"
      },
      "execution_count": null,
      "outputs": [
        {
          "output_type": "execute_result",
          "data": {
            "text/plain": [
              "tensor([0.44232587+0.29488391j, 0.73720978+0.j        ,\n",
              "        0.29488391+0.j        , 0.29488391+0.j        ], requires_grad=True)"
            ]
          },
          "metadata": {},
          "execution_count": 11
        }
      ]
    },
    {
      "cell_type": "markdown",
      "source": [
        "## Angle Embedding"
      ],
      "metadata": {
        "id": "WDPKXcXF3pXK"
      }
    },
    {
      "cell_type": "markdown",
      "source": [
        "Data Type --> Int/Float/Complex"
      ],
      "metadata": {
        "id": "EX1BcU_q3-aZ"
      }
    },
    {
      "cell_type": "markdown",
      "source": [
        "Encodes $N$ features into the rotation angles of $n$ qubits, where \n",
        "$N \\leq n$\n",
        "\n",
        "Angle embedding encodes the features by using the specified rotation operation."
      ],
      "metadata": {
        "id": "m6bTMu0X3sss"
      }
    },
    {
      "cell_type": "code",
      "source": [
        "wires = range(1) # set num_qubits\n",
        "angle_dev = qml.device(\"default.qubit\",wires)\n",
        "\n",
        "@qml.qnode(angle_dev)\n",
        "def angle_encoder(data):\n",
        "  qml.AngleEmbedding(features=data,wires=wires,rotation='X')\n",
        "  return qml.state()"
      ],
      "metadata": {
        "id": "jV3GWm8P3rkX"
      },
      "execution_count": null,
      "outputs": []
    },
    {
      "cell_type": "code",
      "source": [
        "angle_encoder([1])"
      ],
      "metadata": {
        "colab": {
          "base_uri": "https://localhost:8080/"
        },
        "id": "KAox0qw752pi",
        "outputId": "1a88a200-804d-4650-89bb-cbe2924d2328"
      },
      "execution_count": null,
      "outputs": [
        {
          "output_type": "execute_result",
          "data": {
            "text/plain": [
              "tensor([0.87758256+0.j        , 0.        -0.47942554j], requires_grad=True)"
            ]
          },
          "metadata": {},
          "execution_count": 13
        }
      ]
    },
    {
      "cell_type": "code",
      "source": [
        "print(qml.draw(qnode=angle_encoder,expansion_strategy=\"device\")([1]))"
      ],
      "metadata": {
        "colab": {
          "base_uri": "https://localhost:8080/"
        },
        "id": "qVuAEGvN6724",
        "outputId": "4a492cb2-4284-4189-9454-63a82e226500"
      },
      "execution_count": null,
      "outputs": [
        {
          "output_type": "stream",
          "name": "stdout",
          "text": [
            "0: ──RX(1.00)─┤  State\n"
          ]
        }
      ]
    },
    {
      "cell_type": "code",
      "source": [
        "# This is what actually happens\n",
        "np.array([[np.cos(1/2), -1j*np.sin(1/2)],[-1j*np.sin(1/2),np.cos(1/2)]]).dot([1,0])"
      ],
      "metadata": {
        "colab": {
          "base_uri": "https://localhost:8080/"
        },
        "id": "blX8njv3_cxF",
        "outputId": "d3a9c33a-c519-4ac2-c0eb-f4c4362f377c"
      },
      "execution_count": null,
      "outputs": [
        {
          "output_type": "execute_result",
          "data": {
            "text/plain": [
              "tensor([0.87758256+0.j        , 0.        -0.47942554j], requires_grad=True)"
            ]
          },
          "metadata": {},
          "execution_count": 14
        }
      ]
    },
    {
      "cell_type": "markdown",
      "source": [
        "## Displacement Embedding"
      ],
      "metadata": {
        "id": "dUGI3M0vApD-"
      }
    },
    {
      "cell_type": "markdown",
      "source": [
        "Data Type --> Int/Float/Complex"
      ],
      "metadata": {
        "id": "U8lFZzMF4Rwj"
      }
    },
    {
      "cell_type": "markdown",
      "source": [
        "Encodes $N$ features into the displacement amplitudes $r$ or phases \n",
        "$ϕ$ of $M$ modes, where $N \\leq M$."
      ],
      "metadata": {
        "id": "yoOgIB4CAxod"
      }
    },
    {
      "cell_type": "markdown",
      "source": [
        "$$ D(\\alpha) = exp(\\alpha \\hat{a}^{\\dagger} - \\alpha^*\\hat{a}) $$\n",
        "\n",
        "$\\alpha = re^{i\\phi}$\n",
        "\n",
        "r = amplitude\n",
        "\n",
        "$\\phi$ = phase\n",
        "\n",
        "$\\hat{a}$ = Bosonic Creation Operator\n",
        "\n",
        "$\\hat{a}^{\\dagger}$ = Bosonic Annihilation Operator"
      ],
      "metadata": {
        "id": "doB1haSuhx9u"
      }
    },
    {
      "cell_type": "markdown",
      "source": [
        "Substituting $\\alpha = re^{i\\phi}$ and simplifying, we get\n",
        "\n",
        "$$ D(\\alpha) = exp(r(e^{i\\phi}\\hat{a}^{\\dagger} - e^{-i\\phi}\\hat{a})) $$"
      ],
      "metadata": {
        "id": "QTAvUgGshXmu"
      }
    },
    {
      "cell_type": "markdown",
      "source": [
        "$ \\hat{a}|n_i> = \\sqrt{n_i+1}|n_i + 1> $\n",
        "\n",
        "$ \\hat{a}^{\\dagger}|n_i> = \\sqrt{n_i}|n_i - 1> $"
      ],
      "metadata": {
        "id": "eqJkFj4Q1mvW"
      }
    },
    {
      "cell_type": "markdown",
      "source": [
        "$n_i$ = Number of particles in the system"
      ],
      "metadata": {
        "id": "IVdFeAsp7qDN"
      }
    },
    {
      "cell_type": "code",
      "source": [
        "wires = range(2) \n",
        "dis_dev = qml.device(\"default.gaussian\",wires)\n",
        "\n",
        "@qml.qnode(dis_dev)\n",
        "def dis_encoder(data):\n",
        "    qml.DisplacementEmbedding(features=data, wires=range(2),method='amplitude',c=0.1)\n",
        "    qml.QuadraticPhase(0.1,wires=1)\n",
        "    return qml.expval(qml.NumberOperator(wires=1))"
      ],
      "metadata": {
        "id": "9FvicAQGArln"
      },
      "execution_count": null,
      "outputs": []
    },
    {
      "cell_type": "code",
      "source": [
        "dis_encoder([2,4])"
      ],
      "metadata": {
        "colab": {
          "base_uri": "https://localhost:8080/"
        },
        "id": "Ge44XZPexYRX",
        "outputId": "ab8f301d-caf5-4160-b81a-a6fd099f3748"
      },
      "execution_count": null,
      "outputs": [
        {
          "output_type": "execute_result",
          "data": {
            "text/plain": [
              "tensor(16.47877626, requires_grad=True)"
            ]
          },
          "metadata": {},
          "execution_count": 22
        }
      ]
    },
    {
      "cell_type": "code",
      "source": [
        "print(qml.draw(qnode=dis_encoder,expansion_strategy=\"device\")([1,2+0.5j]))"
      ],
      "metadata": {
        "colab": {
          "base_uri": "https://localhost:8080/"
        },
        "id": "pzVLslh9BLlQ",
        "outputId": "0b98b806-f320-482d-c056-43dcaafc341e"
      },
      "execution_count": null,
      "outputs": [
        {
          "output_type": "stream",
          "name": "stdout",
          "text": [
            "0: ──D(1.00+0.00j,0.10+0.00j)──────────┤     \n",
            "1: ──D(2.00+0.50j,0.10+0.00j)──P(0.10)─┤  <n>\n"
          ]
        }
      ]
    },
    {
      "cell_type": "markdown",
      "source": [
        "## QAOAEmbedding"
      ],
      "metadata": {
        "id": "j0wTDL2io9VP"
      }
    },
    {
      "cell_type": "markdown",
      "source": [
        "Data Type --> Int/Float/Complex"
      ],
      "metadata": {
        "id": "dJMmfac24v1i"
      }
    },
    {
      "cell_type": "markdown",
      "source": [
        "Encodes $N$ features into $n>N$ qubits, using a layered, trainable quantum circuit inspired by QAOA ansatz."
      ],
      "metadata": {
        "id": "tSRh1pd5ghtc"
      }
    },
    {
      "cell_type": "markdown",
      "source": [
        "### QAOA Terms"
      ],
      "metadata": {
        "id": "bnXHFcO5pB1H"
      }
    },
    {
      "cell_type": "markdown",
      "source": [
        "$H_B$ = Mixing Hamiltonian\n",
        "\n",
        "$H_P$ = Problem Hamiltonian\n",
        "\n",
        "$|\\psi_0>$ = Suitable Initial State\n",
        "\n",
        "$\\beta, \\gamma$ = Real Valued Params\n",
        "\n",
        "$U(\\beta) = e^{-i \\beta H_B}$\n",
        "\n",
        "$U(\\gamma) = e^{-i \\gamma H_P}$\n",
        "\n",
        "$|\\psi(\\beta,\\gamma)> = U(\\beta)U(\\gamma)...U(\\beta)U(\\gamma)|\\psi_0>$\n",
        "**[p times repetition of $U(\\beta)U(\\gamma)$]**"
      ],
      "metadata": {
        "id": "A6rYtG8mpHoy"
      }
    },
    {
      "cell_type": "markdown",
      "source": [
        "### QAOA Algo"
      ],
      "metadata": {
        "id": "1wy3uAHjq51P"
      }
    },
    {
      "cell_type": "markdown",
      "source": [
        "```\n",
        "1. Initialize β and γ to some suitable real value.\n",
        "\n",
        "2. Repeat Until Convergence:\n",
        "\n",
        "  a] Prepare the state |ψ(β,γ)> with QAOA Circuit.\n",
        "\n",
        "  b] Measure the state in standard basis.\n",
        "\n",
        "  c] Compute <ψ(β,γ)|Hp|ψ(β,γ)>.\n",
        "\n",
        "  d] Use Classical Optimizer to get new values for β and γ.\n",
        "\n",
        "  e] Set the new values of β and γ.\n",
        "```"
      ],
      "metadata": {
        "id": "R5ue4xBEq88W"
      }
    },
    {
      "cell_type": "markdown",
      "source": [
        "Breakdown of encoding:\n",
        "\n",
        "Feature Encoding\n",
        "\n",
        "  * Features are used for angles of RX Gates\n",
        "\n",
        "Ansatz\n",
        "\n",
        "  * Next, a two qubit ZZ Gate (trainable) is applied --> $e^{-i\\frac{\\alpha}{2}\\sigma_z\\otimes\\sigma_z}$\n",
        "\n",
        "  * Local field (trainable) is applied --> $e^{-i\\frac{\\beta}{2}\\sigma_\\mu}$ \n",
        "\n",
        "    * $\\sigma_\\mu$ = X,Y, or Z"
      ],
      "metadata": {
        "id": "JQ4-0QoikeS0"
      }
    },
    {
      "cell_type": "markdown",
      "source": [
        "![image.png](data:image/png;base64,iVBORw0KGgoAAAANSUhEUgAAAlwAAACjCAYAAABfR8BVAAAAAXNSR0IArs4c6QAAAARnQU1BAACxjwv8YQUAAAAJcEhZcwAADsMAAA7DAcdvqGQAAHETSURBVHhe7Z0FXFRLFMY/49lidwd2J3Z3N7Zid3d3B3ZgoiC2IiIYgAiI2IKJgd1it745c2fdXVhgF2EJ5/9+97kzuyzL3Ttzv3PmnDNxfjMgkUgkEolEIok04op/JRKJRCKRSCSRhBRcEolEIpFIJJGMFFwSiUQikUgkkYwUXBKJRCKRSCSRjBRcEolEIpFIJJGMFFwSiUQikUgkkYwUXBKJRCKRSCSRjBRcEolEIpFIJJFMhBQ+LVG8GIoWNhWt2M3Dx8+xZq0V8ufPL3oksZnDhw9j6pQpyJM9i+iJfdy4fRenz/ggQYIEoscwfHx8MHzYIJia5hY9sZszPpfg6+snWpLYTqdOnfDt80ckThi+8RET+PT9J3bt2i1aunny5AkmjB+H1KlTiZ7YTBw8efoM27dvF+2IIUIEV7t2LWFnvUy0Yjf2hz1QoHApdnP5NwTmv86VK1fg5uoCi9aNRE/sY/bSlZg8Y264BdeFCxfg5e6I/n27iJ7YTYeuI2Fju0O0JLGdcePGwaJDG2RJm0L0xD7GzlqMZStWipZu/P39ce2yO5o0riN6YjPxYN5lGHbsiNhxLpcUJRKJRCKRSCIZKbgkEolEIpFIIhkpuCSSaM69+w/Fo/Dx5Olz8UgikcQ0fv3+jc+fv4iW4fz8+Qs/fvwQLUlUEuNjuD59+oz1G2wxaEA3xI0bPv347dt3rF63FQP6dkX8+PFFr270ieE6e/Ysli5ZApMUJqIn8vnx4ydKlCiB/v37i56YRdOmTZElc2bEiSM6jEDA/QewtrZG6tSpRU9w9Inh+vjxEw45HcNv9p+KOOy/jBnSo3zpEkiUKJHoNZxlazegdbPGyJwxg+hR2HfIEV++fIVpnlwoU7K46NXN7gOH2LnNhAplS4sebWJ6DNeDh0/gd/UG6tetLnoM59Hjp7h0+Soa1q8pekJGnxiu+fPn85iX8M5J4eHbt2883igmxpe+efMGQ4cOQeLEiUWPEWDDNU3atJg1a5bo0I0+MVwPH7Nr8PpN0VL4j91L8ubOiexZw59w8+XrVyxesRbDB/Rh80hC0WsYP37+xMz5SzFiUF8kT5ZU9GoTE2K46F7v6X0OtWtUFj2G8+r1G3z7+h2ZMqUXPSEROTFcRhNc799/wLxFq7F0mRXq1q6KIoXz8xP49t171GInsG3rxuGanJYut0LvHp2QJEn4b2rE27fvsWLVJowfO4jd9EO+6+sjuNzd3XHb9zzaNm8seiKfe+ymY73XAXPmzBE9MYssWbLAz+sEEvwXuuCNSJp37o1tNrZInz7kwaeP4KIhdI+JtxpN2qJD62bo070zvn//Ds8zZ7Fu0zZYzp+B0sWLiVfrz8ZtO5A3V05UrWQmehRGT5mJujWqoRrrL1OjAS66Hw31miUmz16AccMHIbEO8WcswXXu/BWstdqGw44n0LVzG8SLFxcfmFiNHy8+elqYI184shx/spvJ9FlLMWXisL8WN7v2HELePDlRskQR0aMbfQTXgAEDMG6ABVKnSil6Ip811naoVa8RihcPXYBHR54+fYrxo0dixbxpoify+fbjF6o3aYOLFy+KHt3oI7hevw6E9/kLaN2lFzasWMzH7dt377Df4YgimmZNYWInmXi1ftC13X/keCyeOQVJkybB9x8/cMzVHe8/fEC5UiWQM3s28cqw+fDxI9ayuWjEwD6iR5uIFFz+t+9h34EjbLxfRtkyZHAm5B669OnSoE2rxkxUG36v/vr1Gx/nM6eNCnOuC41fv35h+OgZmMju82nThmxox/ig+eTJk2HKhKFc9c+YOgrTp4zEwnmTsGDORHSxGIJr1/3FK/XH5+wldvF9/GuxRaRIkZydjTi4eu2W6JFI9IMmgCRJkjDr6TVGDe6PHNmyMss2F7qYt0Els3IYPHqSeKX+kIhz8zgdTGy5uHsg8O071K5eBf/99x//3frYTE0b1MWkWQtEK2ooXaooWrdsxIRWPD5x0hyweP5kNikXQ+MW3cSrDGPugpVo1qRuhHiSWjZviGkzl4iWRKI/qVOn5MIqU8YMMG/ZFGVKFkOtapWxfP5MeHqfhd3eg+KV+nPxylUULpCPiy1i1oKl3GCqV7Ma6rfuqNe4V5EsaVLcf/iIvWfklzMho6VGtYpwc/fG8CG9+MrRyGF98PTZCzRu3pWLHkOxdzgG8zZN/kpsETRPLF04BfMXrzbo/EUUxvN3MwLfvse79x+QN29O0UPr08rJJ2+XoWzcYofRw/uJ1t8zYcwgbLbeKVoSif54+5xHtiyZkSqlthUc8OAhE0aGe+1oibJr+zaipUBxGN0HDEd/C8WTpHjWHrJ/eTNUSpcoDo/TZ0Qr6jh16gyKFMmvNXHGixuPewjCwykPH5QqWVS0/g7yuLVv1wx3794XPRKJ/mzfuRf1alQVLTUfP30K18194zZbDO7Tgz++cNkXDx49QfXKFRA3Tly+BP7RwHvmoD4WsNm1T7QilzXrrNGqeQOtcd6oQU2ccPXEy5evRY/+7Nh5AEWLFhStv+fli9fw9bshWsbDqIJr+cqNaN60HhJqLF3s2n0IhQvlR7FwnMyHDx8jYZBidBRPs3DxGsxbuIor6RWrN2PR0nXcPasPR4+exPfvMsBQYhhePmeRJ1cO0VIgy/bsxcuwXrtc9OjP3KUrkTN7VtFSuHMvgC/BF2JWL/HoyVMuEvQx+ug1ZmVLc9d8VGJ/mAnJTtpCkoyc7l3aipb+kKevUoUyoqWGJnTyfJ32Po/XbwKxgM0HXqfPiWdDp2iRghg7ca5oSST6c/X6TVSrXFG0FOZbruLxkx3btBA9+kFLcD7nL4kWMHbabLQRISofPytCy1BnDy1zXr9l+EqSodC99vCRE2jUsJboURg8fAo6tm+BdOnSiB79OMmMNF3Lf/R7zp67jJ/CY3bhkp/ejptOHVri+IlTomU8jCa4SPysXrsVGTKkg82O/TyWaxyb2FKmMIGPp0Mw4RQWD5naT6YjAPCAvROGDOrBJs4C3H3Zs3t7rGK/V9+lwsRJEuPuPWnhSgzj9NnziBM3Lo+7WrxqHQaPnYQ7AQE4fcyee74M4dv377jlfwfJkycXPQrTF1gidcoUGDxmMvoOG4th46fChL1GXzd7yWJFcNTtpGgZH8qWJKsySeJEcD52EmvWb8OM2UsxoF83zJ8zQbxKf3bvcUCVKuVFSyEw8C0uXbmG0SP6YfGy9bDaaIsmjWqjeu02PKg8LGhpyPmYW7iWPST/Ni9evsLT589x0NEJazZuxZQ5C5E9a2Yc27+DhxwYgv/de+z+pvwMeccuXbnKE7rOnLsId09vJGX3KV3xmGFBsaWf/iLjUR9ILJJhSEuL5JWncKHR42ejaeO6sFq7QO/5SsUZnwvBDKsXL17B1u4A0jEhVr5SEx7fdfv2PTTRMzShKps3yCAzNkYTXGR1vmGT4cRxg9HBvDlatWzIg2izZcvMLqR44lXsy/ryhQkza2TIVvKPArV3OIrW5n34Oq6K+/cfwcRE+4Z0y/8uqlQuz2Nb7t17gLJlivOAPfcTe7gAI+ueXJrjJ83j68m6oPXyV6/eiJZEEjYUR0jxFvOnTYRFJ3MM6mWBz5++4P7Dx0grMiBJRK2y2oLMBUvhuJvasqLJtGrDlli7yfqP94kmRbrha3qCaeJycDqGrWuXYc2SufwoXbwo8pvm4RPY2QuXMGDkeMxetAwTZ87jGYxBoUzHa9ejLkaRlv8K5M+DShXLokzpYsiRPQs8vc6hQvnSWpNwQMBDDGHWcL3GnbhIo3M0cMhETJ62kBlO6kywy0xYmSTXDkQ+4uyKamwypViNZ2yM16pRCblyZsP1K648KSAw8B1Ountj1lzdXkeaLyhrmQ6JRF88Tvvwa9i8VXNUqWDGYzf3HTqCUsWL/RFGN27dRr/hY1G5fjMmzNT3H/KCt+hkwQPsVbx89ZoZJkrGpteZsyiQLy83VH78+I7DR0+ge8d2/Bp/8yaQCTxnPHj0mL+WoDADdy9v3n83QNt5YGJiwjMqI5P7Dx7xf+/cuY+jzLDaum03vrL5aMhACyRKqM60fPT4GY+ZHDh0Ivs73vI+yxUbMGvOMty+E8DbxIMHj5Epk3aW9kGmCUhHZGdzyKNHT9DToj3Kly2JieOHilcoiXobN9uJljYkXp8zgWxswsxS7NWrFz58+CBauvH1vYQr55xFSzfnL/iiYrVmePPM70+WwojRM3CTWfL2ezfxtgr6SLUbtMfQwT1RhU3ONIm2a9NUa1KmyXv7jr1YvVx3Vl7dRh2wxWqJ1hdFNy3KRmzWuge2bV6GnDm0l2yI+k06YxIThXRT0MWBQyexfqNNMO+DJi9evEDz+jVhwQaFsbh26w669BuKYsUMz4bThy9MCP9NeYOwOOzggLtXziBRgv9ET+RTpVFrZM+RM9S/i679enXrhJqlSBPl6MkzcfOcWkg5OB9H7yGj8eia9lJW+VqNMGboQLRs0oCLKvsjR1GuVElkyqjOlKRl8exFyyLg8pk/Xtx3798ja6Ey8D/vgfTp0vKfNavTBEtmTWWTe1k4HXfDJV8/pEmdCq2aNuKe46BQhpP32QuYMHKw6FHoMXgkfsVNoDPwnMbM7du3+dija0tX2ZRXr16hUP5sPBA+NEhEkRfAZusK0QMUKFodC+ZOQJNG2plPz5+/RIVqzXHB25EvC1646IcWzeqLZxX6DBiLfn26oESxQqJHDS03FCxWAzd83bTmDXpfyvZqwMb55XNHRa8amqQzZi+Fl48vh5hN1aRlH2TMFLrX0svLC/Y2G5CBfVfGYvL8pbh7/3GoZU7+BtpLL1OmTKIVsXymZbKf37BusfGyrL98/wnTkhXQsmVL0aMbymK02bg21CzFtt368MSwDcsXiR6gU+9BPAN382p1Iob/nbsoU70B7vv6cIfB169fsXOfPTq0acGTSVTQWF1ptRn7tm3A8nUbuSNi9OD+bDz+ROnq9eHpdIA7Bzy8fbiwas3GfNlSJfjPturSE+uWLuAOjk69B+L0sUO8n2jfoz8mjhqCwgW09wIuU7MR4v8X+ioTzQ/TJg3mSSqhMWzUNO602LpxKW/TZ0+WKj8+v/VnRo/2/E7irHjpunh414cvBzoddePLfZr0ZeO8a5e2zDArJXrUkKfLtHAVPL1/XmseJ+cLGVYUWnTTT7dXn7zersd2iVZQ4qFSjdZo3ry5aOuGPJeUkawvRisLMWf+Cr6u635ir+hhN5/KTVC0cAHuZqQbiOaE/+p1IHKammHm1FF8iTAolHo6dcZiLpxUkGeAJtcvX74hT4GKePZQSfc943MR5coqFyNRuUbLEAUXPbdm5RwUKaR7c2pZFiJyiMllIUhYff76BdZr1NfisHFTuCV646y76FHYYG2Lnfvt4bhrG89CJC9VUE8tZTtlY+LqxtmTSJ1K2SiWkk1yMBF299JpJqZS4KSnN6bOXYQTB5UkDxJcWTNn5LW/SBSlCPKeBAXMUrxD53atRI+CscpC0HgngdStsxLDRWOeJmKHA5tRo3ol3qfJ7HkrmGF1hpeQaNemiehVQ5Np9aoVUL5cSdGj1NSjSf3kKW8ssbTCvl3ruWj0vx3AvWsE3bRKla+vU3CRZyFXvop4/dQ3xGQHWRYi4onJZSG+fvuGtLmLYO82K9SprgTN07WdqUApLoRWLlTX+aLbbclq9TCWGV1tmjXCpu126NahbTBDhkIUJs2aj6P7dmDF+k1sbGdC80b1ef+0uYvhuHubeCUbJ4uWoU6Nqn8EF0HX+An3U9hz8DDWLpkneoHG7bpiveV8nk2pSUSVhaC/O2X6Qjh80BqVhdOCvFWmhargx6d7wYw6Oh9mVZpi8EALJk7jccdKUEaOmcFLRzWoX0P0qKF7e6dug/8YVrScqTKUKBa7eJk6uHrJhbeDUqdBexx1tBWtoMTwshBbt+/B0EE9RUuB4jlMTXPxx7QeqwmtX9NkRTFfusiTOwdXt5o0aNoFy1dthofnGaRKpQwOugA+iSBDfaAYkKDBzxJJaPhevwGzMtrWl8+FS8gsvKt3Ax7wfwlacnzw8DGmzV/ClwODii0iYcKEvGbP23dqzzIVLCTPlso6Wrp6HayWqcs8xIsfFw8eP+HvN3vxMh5DERT/O/dQo4p2UK+xIBFJIQSNNQJpb9y4za3fjBnT487d+1rLCET9etXh4eWjU2wRjRrUwtnzl0VLqaWXNnMxHr6w3soGRQoryQW0tEHzhT7Qe+TLmytcmaWSfxMqpknCIX9eRdAT1Efe8YL5lL7TPkq8EIkChx1bMXDUeMxcaIkOrZvr9BqTwHonxnDLxg34OCHWbd6OA7ab+ePQOO7mzowwV/Tu2lH0KJA4DCq2IhLKnvz69TsKFVQ7JALuP+RL9SS26Dzd05gP6Xy4OO/EgMETeYyXLnLnys4MpruipWDeaQCePXuJE26eaMDmCXofWrK9eEm/she0YkPzjrGJdMF1xfc6li7fgBZN6+Hu3Qda2ULrV8+H81E3TJuxmJ1stWomd+S27Xt5MP3IsTPZhftJPKOGTjCJMbJeVQzq343HaJBrd+WyWViwaDVOuHr8Udr6ULFC6XAVZpP8e6zfsh0tOlpwtzjV2bFcs0E8A17SgW7eFC9Bld5V0HVbtlRx5M6ZPVj1eBW0AEYT5fMXL5UOBv2czfqV2LXPHiMnTsf44UPYe6hFRK2qlVG/VnVe565p/bpo0Sm4V5gKM9JEbmxo/JM3ulP7FrBkj1WGUv78eXhAuzUzxihsQFMU8Rp77z9g+uSRaM8mV11Q8WQPDx/RooSXRLysAxVXnTxxKB/Hi5as5TF2+gqox0+eYeyYgaIlkYQOeZm79hvChcSsRcv+ZAGmSpkSBfOb4h279q5cvcb+VRtPGdKn43Fd5GkOKZg+S6aMfwqlZmaPaXueTdt3YM7ksWGuApDBUY/NBXOnjOdLiCooaYRCDiKLxZbr0a3HcF4Xs0//sTz2iqCCxmREUlYxxU6SF14FjXHSABR/tWXbbtGrTeWK5eAVJMCdlh8djhyHaZ6cuOJ3A/sOODID7g7MdCw76sLR2Y3XCjM2kS64KFh96KAemD1jLEYO74MKZurtRSjo7biTHaZMGs5FEkGWLk2+PbqbI336NChXpjg2bNLt9qOqtVab1C6/Zk3qYdrk4Uw0leEuyFEj+qF2zSo6LAjdq6iUPdm9q7loSSSh04uJon3bN+Lh1bM4eXgvhvRVixx6bo/1emY8vMaIgX1Fr8LV67fQpF7o1ZqH9u+JPfYOoqVQukQxtGzSELMmjeWFFTWhwPsnT58pDSbOfv/SzrKjSvgJ/jNefJwmNP7nzhyHzRuW8KLHqrRwsngP7t2ESeOHon8f9XLkcRcPHtNTrYoZj+fYve8wD4DXBVn+tLUPQX/f2pVzMWHsYJjmzYXxYwZhxLA+vOCqvuywO4DWLRqKlkQSOqMG94OD3Va8uXcVi2ZOgWluZcWGEsE8nA6gakUzbizV1ajPRYHvKVOmQM7s2UVPcOhnunVsy7MTiU5tW6J7R3Mu1oJCW4qR4FPRZ/gY/u/Xb9+14sJ27j+Epg1Cn3f+BipyetxpB4/T3mW7hifEEVmzZELALS/4+9/DqOF9ubeLoOQYitlq1rQeG7dzuHGkazWqaNECPBFOk502q9GyeQO0YmPV6dA2VK9akTtt6Lzpw6YtdqhbJ3jNtMjGaEuK+kCp4lQ/Jy+bLFVQ7BXdoDy8zooeNbQ8Qe5JfWtskTt1/0EnNhnnxrET7rh16454RkllJaVNAk8iiQhy5ciO4kULM2GhTAJUAHGvvSMPgH/wUMnkCQkKAP3ArOOgWUZp06TWWUKlZ5cOPLicanPt3m+PdZbaVeUPOh6F5dwZohW9UMdcfOfero3MwCpSuADvi8POXdNGdXgJCVpCCMraVfOwb7+jaIUNZSfv3nMIBQuY4oC9M491UUFbkeTPp2R9SiT6kDRJEh77SEeypEm0BA5lGVc2K4siBZVrmaDxabnaCiWLFkHgWyUzLyQa1a2FMdNmhXp/U0pEJMUl36vck0YM7dsTzifcYH/EGdvXqxNU3E55cYMtKqBQB8pMprmLvFPbbfdh8PDJaMkEE4038kCnT58Ws+YsDxYqRM+TA4YcIipItKkSg0iMqUKIVLx9+w6OTi78+6B/yZOmgjxttGcqCUFjE60EF+2xuI5NoOU1AtzHjhrArVZdBQ7pixg1rC93U2oq/JCgAUCFVzetX8Trc5mKvdvogqbKuGtWzdUaMBJJREIb85Kle9njGBf9YbFs3gweYE9CJCxoCZMC4ilTcc6U8XxTaxVX/K7xCY1qAkVnaOLs3LEVtm9dwethERTHuWfnOr5XYoYMwTP+aH+2HDmywvN0cINMFxkzpIN5u2aw276KZ1upStJQvAwZdRS8K5FEFjQO27RsiiljhvPrPTRoWZLGMiXIhESViuUxtF9P7lEvWkgpHk59dWtWQ/tWzVGquOLdtdm9DwN6d9MqyxBVJEmSmBdAPbBnI+IK4yYLEz8ervswa/ponYVRq1Yuz3ejoKQWfUjBxBh5vK6cP4YG9Wr8WUGjZdVRY2fyRJyoIFoJrvCQJk0qTJ4w9K+sUhJZw4b0ihYXoyT2QpMLlXmgeAZVjZ3QoKXw/j26wuWUp+gJnWKFC6JhnVp/XPYqqBRDP7EdUGyEhFNFs+AGmSGQBT54gBRbksglfdq0yJ0jO0/MokSYsChZtDBP/HqsChcIB7R6Q5vnlyhSWPTETAb274YHD/6uhhjVJySveOIgc6SxiPGCSyKJzVDgbN0a1UQrfNSsVlk8kkgkMQ3aBDukBBt9oCV7yoiODZQs8XeikQwrlVctKpCCSyKRSCQSiSSSkYJLIpFIJBKJJJKRgksikUgkEokkkomQrX2qVq2KlCmD790WG6FspnXr1iNfPqWKtS7Cu7UPFXHVVXVYH+TWPoajz9Y+jo6OmDlzxp8tdmIjVE7CxcUl3Fv7nD17FqNHjUCOHCHXFYpNXPG9yv5m7T0ygyK39jGM6Ly1T48ePfDx/ftgySixiW8/fsLGxka0dENb+1gumYNiRdRlLmItceLCxu4QnxcjkggRXBJtDBVcVJZizuIVeP/xAyqVK4OmDeuJZ/RHCi7D0UdwSSThQQouw4jOgksiiSjkkmI0wLxHP5i3aoo5k8eh3/Bx+PDxo3hGIpH8K1zyu6pViFUikcQupOCKYpauXo/8efMib+5cyuae7L8PH4PvHSmRSGInftdvYJ7lSiRPmhSDx0wUvRKJJLYhBVcUs9JqC9q2aMIff/36jW+0G3QfPIlEEjuhrV5oo/HBfXrwzchp25Gr12+KZyUSSWxCCq4o5KTnaS6uihTMz9u0bQF5ucLa8kEikcQOJs2aj0kjhyJxImU/Sdp65OoNKbgkktiIFFxRyIz5S2BiYoJOvQehQ88BsBg4jAeN04aoKmgClkgksQ9aSqRNhjubtxY9iscrwX/hyxaVSCTRGym4oohv37/jku81LJ83HTZWK/lRrnRJVDYrz7dioIl3+bqNqFi3qfgJiUQSm3A85sKXEVX8+v0b127eQt48OUWPRCKJTUjBFUX8+P6Db0qaQZQk+M7a1nZ7sGbpXN5OkzoVunc0R5LEam+XRCKJPbic9ES2rJmx56ADP8ZOmYWUKVKggGle8Qowo+wq3r//IFoSiSQmIwVXFEGxWnHixGGCSondOOpyEsWLFEKGdOl4O1HChEiWVIotiSS24nvtOvr36IpWTRvx4/nLl2jaoB6fG67f9Mfg0ROR0sQENnv2Y9d+e/FTEokkpiIFVxSRMGECFMyXly8tfvz0Cdt37YHVskXiWYlEEtshz1X50iVFC/A5fxFdzFvxx32GjcGcqeORI3tW9OzSAaustvB+iUQSc5GCK4og75bdpjU4cdIDy9duwpwp45EubWrxrEQiie1kyZzpz1Zeh44cRdWKZihTUqkS/+ZNIBIlVLzfcdlcccP/Nr7/+MHbEokkZiIFVxSSKWMGWHQyx9hhA5A9axbRK5FI/gXKlymJT58+493795g6dxHmTZsgngFmTRqL7bv28izlY27ufJ9Veq1EIom5SMEVTblzLwDzlq7EdX9/zF26gsd0SCSS2MPcKeMxbPxUzLdcBQ+ngzBJnlw8AzSuXxt1a1TF7gMOKFWsCNKnS4cUJurnJRJJzEMKrmhK9qxZMbBXdwRcOYNBvSyQN7dMFZdIYhNp06TG2qXzMHPiGB7TqYmn91ncf/gIHdq0gN/1W2hQp6Z4RiKRxFTi/GaIx+GmX79++PHju2jFbqicw8xZs5AlS8hLgO7u7rjtex5tmzcWPZHPvYdPYL3XAXPmzBE9MQs6n35eJ3jhV2PRvHNvbLOxRXpRmkMXBw8ehL197M4Qo/Ika9asCfcOB/7+/li06N9J+IgXLx5WrFghWroZMGAAxg2wQOpUKUWPYZy7eIXvRJExQzo8fPwEfbt3RvJkycSzulljbYda9RqheHElDiwm8fTpU4wfPRIr5k0TPZHPtx+/UL1JG1y8eFH06Gbq1Kl49uyZaMVO8uTJg5EjR4qWbj58+IAdO2x5nch/gc+fv6Jnz56iFTFEiOBq164N7KyXiFbsxv6wCwoUNoOpqanoCY4UXIYTXQXX2rVr0b19S/z4+E70xD7mrdqICZOmIEGC8FU4v3DhAtxOHEbvHm1FT+yme+8xsNu5V7R087eCi/j58yevz5coUULREzpScBmGvoJr0KBBmDZ6EH7HYqfC1MVrsHz5ctHSzY0bN7DT1gpm5dSZtbGZBUs3w9nZWbQiBim4DEQKrshBCq6oIyIEl5e7M/r37Sh6Yjcdug6Dje0u0dJNRAguQ5GCyzD0FVxDhgzB3InDmeCKvVmi4+Yug6WlpWjphjzZ166cQpNGtUVP7Ma88wjssLMTrYhBxnBJJBKJRCKRRDJScEkkEolEIpFEMrFmSfH79+/hDvol6DRQMdKwiOlLilu2bEHixIlFyzgkTJgQzZo1Ey3dyCVF3dB1eev2XeTLm1v0GA5lu4VW500uKRpGTF5SfPnyJXx9fXngv7GgWLQiRYogbdq0oic4ckkxZOje9vXb93Bv9fbjx0/8+v2Lza0h3x/lkmJwYvySIt08zvhcxGnv83+Os+cu//XmrPfvP8LuvYdFK3x8/foN02ct5Rd3bObYsaNIgq9GPXbvCv3mFNP58PEjNm7bEexwcDrGi1r+DUtWrUeqlClES4HGke2e/bDZvZ9nsoXFhcu+cD3lKVpRy4cPH3HL/67W8fjJ32eAHXF2xaXL10QrfJw7fxmHHI+LVuzkypUr8Dzpgvs3LhvtuHbRB3v3hp5kENO5fTcA+x2OaB0HDjvD7/pNPl7Dy6fPX7Bo5dq/MkTJjzBrgSXevov5caiXLl/FvYCHohU+3E6exqPHT0XLuBhdcNEF1KRldxx38cCXL1/x4OET9O43BjOY2CElbihv377HmAmz0a5NE9ETPigTqEd3c+zZ5yh6Yic5smVHzSoVjXqkFRtyx1aSJkmKJg3qYCab1B49eYom9euiYZ2aPMOsbov28PT2Ea80jJXrN6NCudJIlzaN6FEYPGYSsmXOjLbNm2DgqIlhTujNGtaDm8dpfPz4SfREHS9fvsYBeyfkK1wV7h5ncOGiH7ZY70KTFt3gfeaCeJVh0CR85+59FC9WUPSEj9KliuHJ42d4/SZQ9MQ+yLNVs3pVtGhU32gHjYXkGkVdYyMZ0qfl3syOvQbiv/jxkd80DzJlSIdtdnt4X+Bbw8UO3Q/7DR+DwX16/PE+f/r8Gecv+eLp8+e8rQ/0nY8bPggrrTaLnsjHzf00OnUbjBymZpgweT4mT1+IkWNnYuz4OXj67IV4lWHQz9ntOogc2f9uV5ZqVc2wYNGacH0nf4tRBRftgm9WviSf+Pv17ozq1SqgRbN6sN22EouXrccZH8Mn3F17D8Fy0TT+3n9LlswZYWu3H8+evxQ9EknYkAVJ9dlevn7NJ0faEzNjhvRo3rg+qleuiJGTZohX6s8vJqIuXvFDhbKlRY+Cg7PigalcoRzix4/Hf7c+FnTTBnUxduos0Yo6cubMhty5ciAzG2sWXduhbevGGDd6IAYNsEDDZl3w7ZvhHmbL5RvQp2fELGe2bN4AzVr1+CuvhOTfI1nSpHj24iWyZcmMRvVqo2A+U5QrXRJzpozDZb+rsNt7ULxSf85fuowqZuWRRISAfPz0CZNnLUCxIgVRp5k5vn79yvv1gRwKbwLf8g3SjUG1KmYowwyYwgXzYdb00Zg+eSQWzp2IJEkToWPXQeJV+vPr129Mm7mYvdcYNueFHfoTFhPHDcamLTtFy3gYPWh+z77DzBIthNSp1bENpOQ/fPhkcEE1mhTtdh5EemZdBEVzwjRk8rTo1g77DzqJlkSiH14+5/lkG3T7ldt37yFxIsMLBe456IDO7VqJlgJtXtx/+Dj06qqIC7quA+4/ZP/yZqiULFYE5y/7ilbUsmnrTgwd1EO0FO4FPAjXRPri5Wtu8YYVk6TvDJAmTSqkTGmC169jr5dLEjls37kXdWtUEy01799/xH/hWBLcsM0WPbt2EC1g/PS5aN2sMeKza52MlhevXotn9GNAz248FMFYHDp8HFUqlxctBbrX+129KVr6c/PmbX4eI0JsEWmZUex+ypt9HuPG5RldcFlttNUKuqNlF7OqTbF6xWyUKF5Y9OrH5SvXkCRJ8ABw52Nu2Lx1F5q27M6XG7ZY78bYCfrVp6pfrwbc3cOOi5FINDntcy7Y9kvH3dx5DIfNhpWiR38WLl+DrEzAaXLz1m18+PSRWc95eZsqkMePH597ufSBvGUUbxaV0AbMTs5u6NOrk+gBnr94hZlzluG40w4kSGBY4sv6DdtRokTweWP5qk08JtN6+x44OB7H2vXb2LxwUjwbOr26t4ffNcNvCpJ/mxtsfFatZCZaCpNmzUeB/Kbo0LqF6NEPGqcXLvuJFvDk2XP+/mZlS/G237UbPBnBEHJmzwb/O/dEK/KhZf5yZdQJHGQgbrPZi6ULp4oe/TntcwEd2gVPvKKY8BmzLbn3ju71s+et0DvGK2+enDh63F20jINRBRddINdv3OZLijQRDh0xFf0Hj4fNluXoySY5lXr9/PkLzl24gsu+1/Dw0RPe53/7Hj+5Fy+qL0IKuC2QX7n5qPA5ewlJkyZF965tkT5dWtg7HEXN6hVxnr2fPiRMkCDca8ySf5fTZ89zL8sGa1vMWbICvYeM5jECXkcPIkOQGDZdHlfNLlpWu3vvPkySa2/lMn3+EmTOmBFjpszC8PFT+b+04bG+Vl+JYkVw4qSHaEUNN5ilSqLqoL0zN77aduiHPXsdcPrkQRQvWki8Cnjz5i2ePn2BR4+e/jlfAfcf8cn03Tt1ko3rydPIkjmTaCmsWL0Z5m2bYfKEoWwyXsr3LPz96xcPltUHM7PSOKqnOJNIVLx4+QpXrl7jc8C8pSsxafYCvqx40HaT3rsFqLhzLwDJ2X1MxZKV63gYAS0rPn/5Ek+fvwiX55w8TPQekc0Hdo9/+PAxHrD7N61qLVqyDgsWr4Hd9tXhirf29PRBzRqVRUuB4sBTpEiO4UN7o1S5Bnj1+g1fZiVDSx+KsfmGkvaMSZh+zpkzZzKBFLpVfPfuXfEodGhJJJBNpAP7dUemTOnRrm1TVKnREs+fv0I+U3Xae7z48Xg2U92GHXD9sivvI7H1glnCrVo05G3iTeA7vgSgSZIkiVC2kKKqT57yxuSJQ5E9WxY4H7bhfbdvB+CK33Uu+lzcPDF10nBkzaI9YYcWR0L7ztG+calSaf9eTR48eIBKpYqKlnGgC83V1RXjxo0TPbp5xD6bsaHMqLA+1/v37zBt3mLEixselzH9jL6LRmpu+d/GrFmz2DUTcro1pYxTWYjQePfuPS77XcNZV0fkzZWTi6chYyfxGKxWTRvx11D268ZtdhgzdRb2bF2PWtWUyYPERJUGLdC1Q1t0adeKl9D4/uM7frLrTLNMA3mCnU64wmmvLcqzSZyYudAS7z98+CO4Djkdw082of789RMFTPOiUIF8vF9FpvTpcO7SFR7PpcnDh48wceLEUJfl6HekSJFCp7h7/PgxUqfQb/Inr3SunNnQqYNyTimAtVkrC3Tt3Ia3VZAnbN7ClfDwOouzXkoG8pRpC9mkWwmNGtTibeLVy9fMwFJ7uel8FsiXl8fRUUINxX6UL1eSHypcT3px0fbgwWO8evMG40cP4vFwKii0ISDgkWgF59PnT5g/f75o6YauG0M9EH/Lq1evsHnzZja3as9nmtBc3bppA9EyDjRn0n6kNC+GxPv379m8fBWLmbAwFDrPcePFZbOAYXPHT3ZtPH/+PMzvkra0CQvKAo7/X3xMHDmEe53vBjxAsw7d0K5FU27EEzf973DP9bmLl3F4lzUysPFIUFzVjAVL0aNze57gQpB40AyxIYOuUd1acDruyr1dtLKTko1HOrc091AoQ64c2cWrFTy8fVCpfFnRUiAjjjL0gpaZoTma5sLQoO+oYrn8ohU6Nrb7ULFCGbRr3QTf2Nx3xMkF6zfYYPAAC6055OatO5g4ZQH/W5ctnobE7O/qajEUldjPdu3SFsmTKaLz6bOXwUQrvU/+fHn4/PuMCdDSJYuhSKH8SCheR0k4dB6vXfdnxmZh1KpZiferSJcuNTxPnxWt4AQGBuL48dCzlmm+rlxZWwiGRpiCiza0DGud099fP/e7q6sXMmfOwMUWQXVB4seLD+ejbqhcSX1hUH/VyuVRuWJZeHmfx1t2QjNnyoAO5s3FKxTis0EWVBwVZiecoBiMB0xhp0qpXQdn4tT52LpxKa/ZdffeA6xeu5UH4mmh46aigoLzabNu2uwzJDw9PfHI/6poGQf64itWrIgJEyaIHt3MCWNQRQaFChUK83NRfbCRg/qGK/2ZJp3wJE2c972OYcOGhVofaOPGjeJRyDi7nESmDOm52CLo8qlToyr6DB2DGRNG8z663vp074TNNnZ8EiBIVO3e74B92zcgXRqNTESuHbXrwlF2EomHXNmz8fbPn7+w/5AjVi+ey9tHjrnw8gq9u3XkGYkUUxZUcFEgvq6xnCVrFgwbPjLEOnb37t3jnyVRCBb11atXcc9fv/iwI06uaNK4jmgBOXNkZeLmIW7fCUDRIgVEL9Vly4ixoweiXMXG+MKMCRdXT0yfMhLZg2QoxWECnc6LCvqctWspE6AnE2sFCwSvl7dy9Rbssl3Dz2GGrCXQpmVj9jptT3k8NreEBJ2HVq204+uCQjewuGHElUU0KdlcV6FoSRQsGHK25pkzZ/gKgDGJw8Zm+fLl0bhxyHUJqT7Ydd/LaNG4vujRH8p2J+MkroHG2jf2/e/YZx/md3nr1i3xKGQsV29AcyaWVGMod87sKFqoIOZbrsTWNct4H4mcscMGoGTVeny+JsiwoLCDAzabtMY7XZua45GWzCw6mfOM5c02OzFhxBDuKT7udop7rSuWL6MluAIePMSM+UtxZM920aMiDnd8BIUcCCGNfxU0x+ryzgeFXrF+oy26dGrFhRQd5J1q33kgE7gvtcYwOVpWWs6EWZWmXKieP38FA/t1QyV279eE5vig0MoVQfd6ElTk7QKUGFo6X3MXrMRuu3VoUK8GSpSpB9dju9jfqS6xQzqDDNSQ+PTpU5jfPdW0NERwhXmXosklWbJkoR763uwoE9Gim7loKbWvvLzPwdQ0F29/+/aN/0vQxbd3pxWGj5qGl6/e8IzGoJCFQMpWE/pClXITj5E0SRL2+ZLwi8SRKWxis9WSPxfWa3bjy5AheMkCk+ShT0jkEdF1HlQHfQmag8dY0KSj6/NoHlHxuchzouuzaB70uej7Cs+RnP28rv6wDgo+Deu7VE2MoeF47MSf2AoVZIkGXRIkBvTqjrWbrLnYOuZ6klm0dbTFFoO8LXHjkDGhHg90M6HzqPJ6ubh7IE2a1ChbqgRvj54yi1t4VOS0QL68zFpWjzMVtBRBcRxBoSuCbsK6/n46qGhl4cKFuZGh68iaNWuoAkUFeSIcnV3RTcObRXEXVCqGMoRpnGpO6GRkjRzeFzXrtEWF8qWDiS2Csh3JG66Cfv7J0+f8X0pNL1O6GO///OULD7Anli6cwv+l15AADRo3RiENefNqx+NpQt+NrvOgeZiYmBjob/l76PrIli2bzs+jOqjAsLGh80DFhXV9HtWRI0cOXjqCRIOhR8H8psiTK4fO50I9smfn41vX59E8QvOAE2QQHHNzR7sW6hgjEgg0vskLpQn9XhqfBx2dufDZvmsvupi3DjYvJ2dzh2a8JYkDEltf2ZxguWYDhvRVkk7IU547l7Zni67p67duo0ghtQGj4sPHD0ibOvjqDI3h0aNHh3pYWFjoda//xs4HhQCZlVfPiYFMABEkqgjNcZ4uXRouvIaOnMpXt4KKLYLEFIlQTVRZmjt22fOSTgSNcYoJpe+1WLGC/Nqjc0uJMOS40eRNYKCWAAtK5syZ0bdv31CPrl27ilfrh35KKQKg4qbHjrujTStliYWgSZBOPAWv0UXi5u4tnlG4czeAnZCUuHHjtujRpkiR/PD103b3VqnZCqc8fXiMGGUv0cletXYrT1ElEiZUblhU+uHN23cY1L87b6sgwZYtm/EnJUnMhSxUszLaguvCFT8mGDLyxzdv3+H/Eh3btMCLV68wlgmksiVL6PQa0WRBxU41JwgSlVmYAFFNVMvXbcKmFerdHaioIWVE0u+0P+yEkx7B45VoSaNmVW23ujHxPnORLwtohg9QvCSNScpapkk6aK0wWirxOXdZp1VO1K1dlXuqVZBlmyNvef7vKQ8f5Mmdg3vAevUdhdRics0iQgjIs75w3iT+Gk0OHT6KJo3UXjiJJDTIY626j6mgvo+fPiN/XmUlxMVdKTxM9yN7280YOnYSZi20RNf2bXWKGMp4piVxFemZKKF75N6Dh7F8QehlZtZu3oY61auIlja0vKdayowsyIAiIyhnDrVx9+rVG/a3s7ktUQIeykMB9ZpQSIGD4wlmNOoOxSldqihOnzkvWmx+veSH/EWq83NCoQf161bn/QcPOfNwgiSJE2HapBH83B47cYrHepM3XRNaatT0qhsDowiut0zY3H/wGOe9HfkSoKqwYMoUJvA9fwyuJz252Kqh4cWi+CuyLJwdtmPhkjX8QglKtqyZkTljBtFSOLh3Iz/ZVGdj25Zl8GDiy7xtU66iVVDxRccjLli7Yg6P49Bk7wFH7oKUSMJiHZvYWnftza7vt9h9wIEHtqoY0KMrm3Rf48rV6zgsamcRNOGWKFoYJYsXCXXbl74WnYMVN7TbtAZWW20wYsI0zJo0hnuAVNDEUrZkce61K1u6JHoNHR3MDe997gKvDxYVkGFENyVb65U4c/bSH+FIWcHLl0zHzDmW3ChLJmI2CNudB9G0cR0smDsBk6YuEL3akLfs3AV14GsKExPssl0LX98bcDiwhY97t5NesFqzkHuAVNDSJoldsozpBqGJ9fa9f11cUfJvMHTcFD4H0PU8YuJ0+LLxTtDYLsPGI9Xm8vQ+y8WGitSpUimJXR3bBfOuqqAQBc0dJrastuQxnOTRrly+nOgNDnm47z94hEUr1vI6XqustohnaOn1C9IHKaIc0WzeuhOr1mxB396dsHGzHV6K0hWFC+fnnqs167bxgHpNI8fW7gDKlimO6lXN+L1eF+Th3rtPvZtMXvbzbVo35nFh16+4YfW6rVi+chMaN6jF51gVJKr8b9/F8qXBRSrFk9arG7yMR2RiFMGVggmrwoXy8bIPRdiJ17zR0BcxbvQg1KpRibsbadmBvihajsmfLzeyZcuMypXKYd6CVeIn1NCJ7dq5NVfGKiiIjoL1UrKLleI36EtOo+FCpSC9Dl0HcU/WYksrODErVxNPr3OoU0u3dSCRaNK7Wyfs3rIO186cxNH9OzBsQG/xDNChTQs47t7OlwKG9O0lehXII9awjjrwWxcDe3XHrv2HREuhcIH86NejC+ZNm4AiBbWDV9OlSc0D6wma/P/jRVHVEw9tPZIiCqt907ivVLEMN6ooVVz12Ugg9urRkRlIQ1BKWLdkXFmu2IhqVcrzpBjyQlOmE2U4BoUE2of3H3lWI0FLm82a1EVV9rO0DFGvTjXUqF6Re9ZU7GBCzumoKw87WLLMCk80thairGi6GZgEqacmkehi4czJ8HI+iI+P/WFrtRKFxbgkcX/8wE40a1iXZ8lSAWQVFCpA96TQ9jel8dG9UzucEYVKKeO+Ud3awUrPkN1C9akocJyg96T5YVj/3jw7ulvHtryfsN1z4E9QfmTRrUtbTBg7mBlRMzBmZD/+txMU/H7y+B7W1x9NGiploeizb7fdx71XNOamTByOdVY2XAMEpRR7zeUr1/8YarTkumDOBPTr04VX+Z85bTQGDeiuFSJ09dpNnDx1GvVqV8euPYfwTKP6ACUx5cmT88/nMxZGW1LUl737j/ALUjXh0fp4FSa46ER6+wSvkkvBeJTCrW/V3cuXr6Ehs6rJskiUMAGbmNV1U2hSHzKoBw/yk0j+FvK+0hYfKt1DMRnbdu7B58+fccNf9zK5CorVoh/TXI4kqKK1Kg5Ck0WzpsDB+Ri3cClbceOKxVqCi2JGls413sbA4YVE4zqr7fj29dsfw4zKQYwc2oengVOmclDGjRmIDZtsRSt0aMImi5eEGv375k0gn7AJ8ghSnaA1K+ZqnTuJJCTIYFBBIkvzuqFYzNIlimllBN4NuI/5lqu4wRRW4dIGtWtg4sx5oFIOIXHJ15dnJFNy2FVmyKmg6va0XOl9Vr17C9UKjGzBFRaqbGCKs1q+ciOPs1R5u8gDR86SlWu2/BFWKijTk5b/qaaePlBowqSpC3nx1cEjJuOAvbOWGJs1dznf6cLYxGF/mPZfFg7atWsDO2t1PImxIbG1cs1WDB+i7UkwBPqCKPaLLOLQsD/sggKFzWBqGjz7SYWLiwsslyxGjmzaa8aRCcULZMmeA9OmhX5TnTh+PMYHqfId2UyYvwJLloR+fVAwr5/XiXBlKYaX5p17sxusLQ/oDYm1a9fyshA/Php/3y0SAPOXrcawfj15XFdYUNwI1QEqU6K41tLc2YuXcMX3GrOYgwfSE/NWbcSESVP+BOQbyoULF+Dl7oz+fSNme53wQCng9PlL6iiCqi+U1UiJCORZD40OXYfBxjb0Ddm7d++ONCZJtTxrkc3lqzcwddp0lCqlHU+oycmTJ5EA31HMNOSkgIjmxetAeF6+ifbt24ue4Dx9+hTjR4/EinnGMwq+/fiF6k3a8BIeoTFkyBDMnTgcv0OIIzSEd+8/4Cd7H4pJJKdCojDG9fWb/rh3/wHqM/EVXugWT5vpVyhXBoXy675vjZu7DJaWlqKlG39/f1y7ckqrcLmxWbrcCm1bN9EKpzCU6zf8Efj2Pcw0SsXowrzzCOywsxOtiCFWCC5joo/gis5IwaUmugsugjJuKfaqWpAK1obgxSzboHsyahIbBJcx0UdwRVek4FITFYIrPPhcuIismTPzuK7w8JnNIS9evgx1CTOmCC5jEhmCK9otKUokEjXkIfkbsUWEJrYkEkn0hrKZwyu2iMRsDglNbEmMhxRcEolEIpFIJJGMFFwSiUQikUgkkUyExHBVr14N3bto74UWW7l4yQ+9+w4OdfuM6ExsiuGiTViT/EVVf31iuJYuXQqTxP/h59fPoif2ccTVA7Y77MIdw+Xj44P161aiQT3j1rSJKpYu2wC3k6dEK2YRE2O4njx9Br8bt5A6ZQqUKh5xe9TqG8PVrl07tGxYG7+NvDemMXFw8YC1tbVo6Ya2uTnmtA/Vq0Vd8WRjMmb8XBy0txetiCFCBNf160qxt38BOl0xVWwRhggue8ejuHz1Gs9sadE4/BveRrTgohoqlFqdNk0aPH/5ApNGDRPPGIY+gos2bH30KOSNjGMDdE0XKFAg3ML13bt3cHd351ta/QvQ9VevXtSm14eXsAQX1UCiPTmp/hkZMxHB3wgu2gCeCgpvXr0UtZubY/OqJbwKe0Sgr+A6deqU1jZbsRHawqtcuZALqhIvXrzge+L+K+OcxsKKFStEK2KIEMEliTnoI7jokpg0awGaNqiDcqVLomv/oVi7ZF6YKcwhEZGCizZgbtmxB1YsmoWsmTKh95DRGDGwD693ZSj6CC6JJDYRmuCiXUBaduqBZfNnYu7SFXzMR0Q9svAKLtprt2Ldpjh9/BD+ix8f0+cvQeniRdGoXsRkyekruCSSiELGcEmCcdnvGvYdcuRbUxBUdO6Emwd/HNUcdzvF9w3MklHZp5A2daayCRKJJPyQB6dUtXpYtXgOcufMjpQmJjjppb23rbEZO3UWGtSpycUWQfvf3rgVesFgiSQ6IwWXRAtyo/YaPBK7Nq/9s6kq7Yf1/sMH/jgqoWKBw8ZNwdql8/9Y3rRXWdA9AyUSiWHQti/FChf8s1z3k42pMxpVyo0Nedn32DuiTbNGogfw8D7Dt2yTSGIqUnBJtKCYiafPX6BQgXyiB3wD5ixZMolW1EHbVHz+8kVrq4xrN2/JGjMSyV9AHuNJs+bzrZ9UhgwFqv/6FXXRJrQZ/I8f33ll9lOnz8DF3ZPHlpnmySVeIZHEPKTgkmjhcdqHF9tcsW4jP6bPW4xXr16jTPFi4hXgmwtHBZ7ePogXNy6GjZ/Cj069B+L5i5d8B31NaCsMGZookejHKTbmEydKhPRplT0lCdoiipYWowrbPftR2awc3n/8wETXezx59owbW5rbpfnfvceNQ02ePnvOBdqR4y54/SZQ9Eok0QMpuCRaeDBR07Z5EwzsbcGP5MmTw6xsaS7C3gS+xcyFlthquwtd+w3hwsaYkPetbYumWDJ7Gj+KFiqIGlUq8Z3oVdBWOC069uCbnkskkrBxPeWJr9++olazdvwoV6sRG9sPUbViefEKxciiIPag0NLjp88RXzKFNnlu3rg+GtapxQ/yvOXMno0vedIYHzJmMqbNXYyLl33FTzCxxcTXlh27uVCjuaFC3aY8HEIiiS5IwSXR4tHTp2hYt5ZoAUdd3NCuRRP+2NpuN98dv2eXDqhYviymzVvM+43Fy9evmcCqKFrAIadj6GKuXf9t8uwFWhs3SySS0PE5fwnDB/TB8QN2/OjcrjXKly6JDOnT4TMTU/OWrkSxirVwQqP2GMV6rly/GVUaNMf6LdtFb8Tx48ePP/Fk5K2eMGMe9m6z4sKLjD/LedNRvoz2Jt3ObK5y8/Dij7Nkyoi0qVNxb5dEEl2QgkuiRYL/EiBvLiVl/NWbQLwJDET71i14e0DPbhg5qC9/fNLjNMxbNuOPjYVJsuR/9hR7zIRhsqRJ0ahuTd4mDjkd5Z8vIlLZJZJ/BVqWr1NDXbT28NHj6Ni2JX+cKFEiDOptEWw/znjM8OrWsS06tlZeF9HQEqeqDI3P+Yu8BEyenDl4OyTas/nIbsNq0QKfu0xzy5gvSfRBCi6JFhXLlcH7Dx/5Y4v+w7BywRwkSPAfb9Mk++nzF+y1P4zEiRP9KRthLKpWMmNC6xnPVuzUezDWLJmL+CJlnGI3UqVMifTp1HEoEokkbMgjnE0kxTx9/hwf2fhv17Ipb5PxkiRJYvaAN7VImiRJpBk33Tq240Lw9Zs3WLxyHeztNv/Jmg6J//77D8mTJ+MesbFTZ2PymBEoXDC/eFYiiXqk4JJoYdHJHDv3HeTLh+NGDEKpEuqtNKjoqAmb0Fo2acgPiuMyJl3MW+PajZvYsWc/tq1b/ieAluJLJs6aj48fP8H5hBvevnuP467ufOsfiUQSOlUqlMOr14E8K5EKCVPh04iqMh9e+vfoymPDjrq4w2rZQqQwMRHPhA6ViLHaaoM6NarCnIlGGTgviU5IwSXRgjKTxg0fxOM4zILESBSrUPNPEGrmjBkQ8MC4W96kTGGCQX168M9Gv18FFUa0nDsdlczK8oMyGSnQP6pvGhJJTKAfEzdbbHdi7SZrzJ40FiWKFhbPRC1tmjfhnraQYjJ///6lVbpCEVu23MudOlVKHHM7Bb/rN8SzEknUIwWXRG8mjRnGlxtfvX6DbXZ7MKSvcTfBDgla1qDlDRJYZN1S5tSyNRu4x0sikYQOxWxOHj2MCa8uKFKogOiN3vQbPg77HY7Aco0Veg4excXWkWMuWLp6PcZNm4OOvQZi8OiJEbbvokQSEUjBJdGbdi2aInPG9EiaNAlmMUuYshWjEyS8KMD3wklnTB03QmYrSiR/CcVLUnai79UbPAvw7IXLvJ/ipCgDkLICqXafu5G3AVq9eA6OH9gJp702sFq2gMd3UXb1VW9XrYNKSUgk0YUI2bzaycmJByz+C9CeY3Xq1OEB5DERfTavjmgicvPqiESfzasfPnyImzdvilbshK7punXrhhmUHBL083SOVAkMsR0a+6ampqIVswht82pd0JLdq9ev+bVBtwr621OJ7XUovEAVNP+b/Zc2dWr+OCjh3bw6stF38+p79+7hy5cvohU7SZo0KbJlk+I0sokQwVWrZjUM7NdZtGI3Puevo1NnCxQqVEj0xCyk4FKjj+CytLREhuQJRCt2csDZFVu2WiNBgvD9nWfOnMGKZQtQq0Yl0RO7WbvBDp6eSr2nmIahgisiiOmCq1WrlqhfrYJoxU5cTl+AjY2NaOnm9u3bmDZ1HPL+E9srxcEJ19NwdXUV7YghQgRXu3YtYWe9TLRiN/aOnihQqGSMtXCl4FKjj+Bau2YNOjerI1qxk3mrNmLCpCnhFlwXLlyAl7sj+vftInpiNx26jWQ3px2iFbOQgkuNvoJr8KCBmDt+mGjFTsbNXcaNy9Dw9/fHtSvuaNIods+HnDjxYN55GHbsiNhxLmO4JBKJRCKRSCIZKbgkEolEIpFIIhkpuCQSiUQikUgimVgRw+V/+x5y5sga7iypR4+eInXqlHy7mrDQJ4bLxcUFq1euQIH8xovzevf+A5ImT4FZs2aJHt3IGC41MSGGa/vOvShbqjjy5c0jehQePHrM0/JbN2vMC7+GxppN1mjboglSp0wperSJDTFcfldvoHCh8G/jcuGSH0oW16/gpz4xXD169GDfSzwkDOc5DQ/+t+9gJhv/JUuWFD3BkTFcamJCDBfVF5s4cz4mjBjMy/GEh+/fv2PpaqtQ95mNKTFcjx4/RZbMGUXLcJ4+e4GMGdKJVihEUgyXUQVXYOBbWG3cgUuXr6JQIVO+79WbN4HIlTM72rVpiv/CcbO94nsdl69cQ8f2ygbL4YEuyDlMFIwe2f/PhqkhoY/gcnd3h/+Vs7xulbEIePQMW/fYY86cOaJHN1JwqYkowUVbCNntPYgpcxaiZLEifNuj7z9+4PGTp3jy7DnmTB7L93k0FO+z53H3/oNgm4TT73r15g2aN6yHrv2HwXmvLZtIxZM6+PTpM2YvXoaZE8eIHm2MKbhcT3rB+ehJvHv3Hnly5wBNPjT+aBIvVDB8Bor19j0oWqQASugpmHRxL+AhHJ1c0K932NnW+giuAf37Y+xAC6RJlUr0RD5rtu1CrboNULx4yHucSsGlJiIF1y0mdh2PnsDcpSvRq0sHfk/7yMbd1es3mZAvih6dzEMUO6GxZuNW1K9d4089sSdPn8PllAffZ7KfRRckDON+peLCFT92jd9Hi8YNRI82ES24aCy9eKnsSkLEZX975swZUKVS+XDd5wlvnwv4+uUrqlYxEz2G43P2It6//4iaYWVUx4ag+ZQpU6BTx5Y45HgMI4b1wcB+3TBh7GC4nzqDISOmiFfpzxd28teu3/ZXYougGmLDBvfC5KkLea0ZicQQqMo9bUFCle0XzJiEbh3a8kl3ypjhVCESFgNGiFcaxoJlq4NNkAEPHmKr7S706dYJmTNlxOvXb/gWJ6FBmw9XKFcGNrv2iZ6oo3rVCkzgpmE3olsYNqQXhrOjc8dWaGXeG95nLohX6Q9ZvJ/ZPPA3YosgD3na1Klwhk3IEomhmObJjXJlSikeqVHD2BzQDgN6dsOKBbMwe9Ey2B85Kl6pP7R12mlmdKnEFu3wMWHGXLRv1RxlShXHlavXeb8+lCxaGPZOx/gm/8agQvnScHZ2w4GDTqhXpyqqV6uAN2/eoVylxghgxo2h0Di33r73r8QWUbZMCTgcOcGM4Weix7gYPYZri/Uu1K1TDQlEoVQqqFendlWs32CDHz9+8D592c++zGpV/+4LUEHetlu37+LBg8eiRyLRn7MXLsHEJDnyB1n6I9fTs+cvREN//O/eQ9OG9bSWpKgIZesuvTBycD9egJKMg0dPn5GmC5OaVSrxbVCiA9ts9mLU8L6iBSYcM7Dzlhuz568QPfrTf9B4NKpfU7T+jsaNamPkmJmiJZEYBi3/V6tcQcuDQ14tWvK/G3Bf9OiP7e59WD5ffT1Om7uYhxDQeyZNnAQn3D3EM/rRrX0bbGfvaQxSpjTBnXv30ahBTWRInw5Zs2RCqxYNeAFZazb+DYV0w5IFk0Xr71g0bxJWrt4iWsbF6IJr67bdaNygtmgpW0RMn7UUo0f2MzgG65DDMTRvWk+0FOj9Xr56w9T0W94mq4Dim/Rh8AALnD2nbF0hkRiC15lzyJMrh2gpfPjwEfvsHblAMhSyZMuVLiFaCh8+fsBNZhTQsiXx+k0gvn79QpouTCg+kfbJi2oPLlUn9/W7wazeaqKH/q5POHLUDePHDBQ9+vP58xdkyaId00Fehq/fvuHnz5/4xf7eb9++88dhQefINK/xltoksQva3qhO9aqipeB77QaeMoOrWcP6okc/aJzud3BC8mTJePv9hw9w9fRCw7qKceFz/qLBu51UrWgGz9M+ohX53L33AGVKq5e3yWB8+/Y9ChbIK3r0gxwxLq5ewXazoXP048fPP3Oa5uOwOHjImYc4GRujCi46cc+fv0LhQvl4+/bte+hsMQQzp47EtEnDeZ8h0EbKQb+ELUzQsbMOe4ejGDB4Ap9sCxWrwV2SYVGtihmcj58ULYlEf8j1X7p4Mf6YrvODh51hMXA4jh/ciZZNdMdNhMQPJg5OepxGqhTKFioq5i1ZiUIFTHHjlj+P7zp89ASSJaX9IvWLDSlTojgXhlHJ9eu3kTZNam6lE1ev3UKX7kPgemwnypcNOdhbF3Sey5bVFqVfv37Dxs12eMcm9m49h2PDRlu4n/JGrvwVxStCp3Klcjh7XhpdEsN58fIViorNvymGc4vNLkyftxjXzrghZ/asvF9f/O/cQ8KEau/2yvWbUaxQQVy9cYsf9N5l2Xg2lHdMuJFBEtk8ePiEG0Oqez3FaXbqNgiTxg9BsyBOkrDwOXsJOXJkES01a9ZZ49GjJ6haqzUmTJkPr9NnMWb8bPFs6FQwK40rvjdEy3iEKbhoLzkq6R/aQYFs+vDp0xe8ffeOPfrNA+ePnTiFz6yPXPma3i2/azfRvE1PTJ2xGF++fuUBth26DMSmrTvFKxTIMtaEvuQSxQohbdrUXGiRWzNTxvTYZbuG/0tW73bbfbDZsQ+79hwSP6WGljfv338kWiHxGw8ePNB5HlTHo0ePuJo3NoGBgTo/j+bxjV34xubTx486P4vmQR6Ie/cfcNe7IcedewG4ftNf53NhHZ8+f0ZAQIDOz6M6Xrx8Kf6KkKEJzPvsBZQsXgSXfK/iDLM+V6zfhC7t26BIQSVzjvYbnG+5Cg3bdMaJk+qlALLIzHv0489RTCJBr/3+/YdWQCxdT5ttd6Fz21bcsqXjytVrSJ82Lbtu42CD9Q4eYLvX/jDsHZ1xyOkYfw9NcubIhnMXg4sJEi537tzR+ffT4evrCz8/P3xgk7Wu4zM7j/pCQau5cmWD39WbPF5q8rRFaNOqEczKlRKvUNi1+xAaNOnMxqkDb1+85Ie2HfrB4fBx3iYoYSZrkIylvfsd0alDS6RLlwaPmZFVnM0HdOy2XcufDwx8x8b/fi7KKDs5KLT0cZZN8KHChrau86B5/Phh/HFGfPr0SefnUR2GfFcRCS0l6fo8qoM+N4kUSkAx9PjA5hdd/focNO/o+jyahz7eUVo+e/f+PQ8huHjFD3sPHsbilWuxZfVSZM6Ygb+G+vsOH8sNsfsP1fcZ6je36MfGsK3ooWy650icSJ017+rhxT3bJFwo0eyS31Xkza1ssUPxSKustJfIZi9eDmu73Tw7UZOUJiZav1sFzQG6/nbNg+YlfVlrtQ1Vq5SHz7lLOHzkBGrUbYvRI/qiX58uiC88czQ/LVuxEdNmLsGBg868z8PTB5OmLsQ6q+28TfjfDkD2bNqCa7P1Tpi3a8aEWFbc8r+Lnt3b8wScihXK8OdpTvbwPAt3jzPsbwv+/eXKlT1K4rjCzFJcvnx5mIN0/77d8HQLe12WAtwp7srR3pq337//gNQZi+L9q+tIlEg72+IUO1ETJs/DCeed8PQ6y/uqVC7P/yXoY9dp2AHHHNUXqSYt2vTCymUzeXyICpqM6YKljEizKk2xaN5kVKqofEEq6jRoj6MhvCdxwOEUPLzOM1GXVvQE5+7duyhmmgNd2Q3XWNy8ex/DJ85A/fqhu66vXb2KlXMmiZZxaGUxEDVq1BAt3VA5i+EDeiOegRso06a5v5kYCc/Gy1vt9sC8fQckE257XXh7e8N6xXzR0o2Htw/adO2D+34+fyYTB+fjGD5+Km6cdedtFflKV8bWtctgVkYRGJd8/djAf44GddTnhwyJHEXLIuCKD5KJVHC6qWTKX5K/n2oCb9i2M8+EpeusfY/+/FqPFzcePrOb241bt3F4l7WWIUNCz9P7LCaOGiJ6FIZOmo1cefLqXKKgcfb27dtQXfXPnj1D9iypMHVS2KnzteqZo3OnlujWuS1vH2dG1/BR03HpnDLhatKp22DUr1udJ8WQoUTeJwpuV0EZj/cfPEaXjq1Ej/J5yXtG/xYtVRuXzx3VujbIcJs/ZwL3jJcoWw/3/b21Ym48T59jc48PvzmERLM2/VCokLKsGxJHjzpj98ZVSJ8u5HkiopmxZBWevwoMNeuWjMXuHduiQom/SzIwhKcvX2P4pFkoWLCg6AnOR3Z9u7qcQN3qlUVP5POTXSM2u/bDwsJC9OjmjPdp2G8PPf5x5KTpPBGExpyKdhZ9kSNbVsyfNlH0qOeKO5e8/mTEHzjsxD1gxYuov5OjriexegMzoKyV32tWuzHWLp3PXlOIj+3WXXvjwklnLvJu3w3AsPFTcOrIfv5aYsaCpXwz8WqVzVAov+JlIjr0HMBLTBQWhqCKKo3bwoSJsdAgUTZyaHc0a1JX9OiGjEPTwlWwcO5EtGim3I/O+FxEy3a9EXDLS2ueIY90ngIVYb9vM0qWKIID9k5sPk6KWjXU18HqddbsdV8xdFBP0aOEU6ROlRKvXwcid/6KePLgvJZAJU/XsME9Efj2HcZPmo+9O9eJZxQ2bLLln6NbF2UeCkaceChbsSkqVQo9mzF58uSYMWOGaIWN0cpC0K8pUqIWpk4ezizaxrzv5q07fFJ8+/JasHIM9OUWKFqdneQeqFLFDMWLBh+s9Rp1hJODWgmrIFemaaEqeHhXWa+mSTl7tsz8y40XLy6fgMtXbood21by1HRNWpv3we4dijWsC1kWwnBie1mI8dPnwu/6DRyw2SR6gJkLLLFhmy3uXjotehTGTJ2NV69fw2rZQr5scPbipWBlH+j6zVakDG6d80CqlMqyIk0cuYqV5xM1lZi4fS8Azdp3g6+XC3/exd0TNaooy2aUjdimeeNgy+17mNXN08l7aJdvMFZZCIppy5C1JJ49uvhHSC5dboXNW3bh4lkn3tbk4kU/7umeM3MsGjesxRNbNLnlfwcOh09gKJtYg3LuwhXMnGOJfTutuLebvIcmJsl4+YdsWTPj9p0AmHfsBx8vB60bgJOzKw976NxJLeKCIstCGEZsLwtBHrAsBUtj4czJ6NS2Je+j+13hCjVQoWxpbFi+iPcRZAyZlqrMhRTFaB51OcnrQhUtpH1/o3iwWQuX4cge5f5WsW5T7GE/kylDegweM4mXhCioUeexcv3mWoKLxrqyvPlbq4Zf844WWDpn2p/MRxURWRaCytBkzF4KZzwOoUB+5XfbOxxDizY98OXd7WCx2m7McJq7cDW/15OHWbUMqWLz1p14+OgpJo4bLHrUnL/gy42oa5dduKFFcyfFYu7Z54BWLRpxz2q12m3gfcpe/ITCEsv1yJgxPdq30557/xDTy0JQEPv1m7dhVl69dPDs2Us+yceNExe3mPgK0FjOo0lw3OiBOOhwFEUL6y5omDBRQi3Le+yEOVixejPOnb8MkxTJeR950R4+VDIPaU384aMn6NV3NIawyZAmXk3espta4RB+l0QSEhTAWq60dvwRZRDR5EjQ0oWKKWOGwcHpOLx8zvF6OkHFFpGAXaeUnUgTlwoqPUFLjHHYWCEopmPiqKH8MaESW6e8zrAJNncwsUU8fPwE5YN8TmNyytMH2bNn/iO2iEuXryFNWkWUHGFiRzO+pEiR/MifLzfPaA4qtghT9ndSDJgKWpKqy4wwmmt22B1g84YST3Pt+i0kTZqYPyYP2aHDxzBq7AzsYoZVUK+eH3s/WgqRSPTldeBb7oE2K6u+t1HoTMD9hzDNnZu3VYlb5IVZvXg2Bo4eD6cTrtxLE1RsERnZ3KE5bxQwzcvFBIUEkEdfU2zpgpbaaR44yeaDhxrxy1S6JlsW7fteREP3UTJwcmRXLwMeO+4Ok+TJudgio0eTalUr4N69B9wwCiq2CAqFuP9Aexl04xY7HoB/2vscGtSvwcXWufNXcP2GP3+exJbn6fPo2HUQNq5byPs0oSXgDOmN531WYRTBRSenWSsLVK9WEW079OWFSomSJQrzP9rdwxtu7t5aX5CLmxd3R7548RrHXXSnvxbMn5dnQqgoWMAUd+7c58Jt7KgBmDxtAXbuPsQD5FTQl7eBfQEUJ0ZLnJrQaxvWC33pSyJR8SYwEK6nvHDR14+nfj97oS7/QFariRAJ67fY8H+JJIkTo3G92jjhdgq9unQUvdrQsmqjOrXw4tUr0UO14uJj4sjBfBKmAotZMmXUKdb2HHRAmZK6PRwkDEuVKCpaxqVz98EYNnIqj9to1KzrH0OpU/sWePnyNTy8zjFRmVhr+W/HzoNYYTkLHbsN0hKfmly45CseMaOUHTRp03zTtXMbZmg9wcIla9j39E5LWNGSyL5dVqhasxU7n9rve/YcBegaFuAs+XehuODjru78etZMXSGDh0RAlswZ+HOOx06IZ4AGbGw/ffqCia1UKF1CSbQJSt5cOXmMqYp1lvOxY+8BvHz9BssXhF66hDznqkLLFPc1c756dYGW64IaGRHJyjVb0LhFNz6WqdSTapwXL14ISZihRd5AMoA02WK9G+NGD+DOEl2UK1eCx2lpsnvPYS7CaGnx1s07eP78JdMC9/mypIoK5Utip81adOwyiAtNTShWLLyFlv8Gowgui67t4O6yF8eP2MLr5EEUE8uD9OXf9DuJ0iWLoUd3c95H7Nxtz12RtN3O3JnjeBV4XVBsx/KVG0ULbJJtjUXzJ/F+iuuYOmkEf19VRlQb8z5/BBotYfIgR8HPn7+wjL0XVayWSPSBgjEp9uK8mxPfOieOxpS7acVijB8+mG+/062DdizfrTt3Yd4qBFe2YObkMXAJUmenf6/uPAaRLGKKdwvK9Vv+vOyCLt4wK/xuQIBoGR/rTctw7bIr/K+dgsOBLX/GZK2alXGKzQ0FC+TRitGkoFkSRnnz5EB9ZgQdsA8e40XUrF4J5y8qoousZxdnOwzq3w1FCueH1doFGDygB6pr1OorVroOvwmQsKOCsJoJPxREHxXJLpKYy8NHj7kRc+nUMX4PUXmlyCN9w+ckNzBOenrzXSFUcC8uu/xLFg05DpDGR6smjf6ULqBre/zwQahXU11ORQshbAj/u3fx7bsS4H795i2evEO4eZxG5Qrl+OPIoqN5c7ge3YWA297owu7HqnHetVMbuB3bhcePn6FubXXpDIqlIg9Vl06t8enjZ+7lDgoZqeXKlPgj3gjbbSu4s2biuCHYtnU5P6etWjTkz5GhVau+ct+nEKJEiRMFK/dUsUJZvqRobIy2pBgSNPFRNiGdHCrdsHSZFby8z/8JdqegaDqxW7fv4W1NSLjlzJmNu1pVqL5gQtNaJmZMG82VLQXg0vJD/75dxTO0tOEHqzXz+SQskehDurRpeCwEuejpX80AaVr+q1rJDJXNyiGlRnkHcrfTckMeZsGGBmUfnjrtw16rNgpoewz6PRTnoHmdqzh7/hISh3D9Op9ww+zJ40UrekHLhbS0QlAQ/bBR07iHgPoplpNCCux2HeRZzUGZPmUkDjuqMxfpvKhi0Wj8J0igvbQ6deIwXnjVcsUGdO/Sls89KvYeOIKVlrLwqUR/aBzny5MbeXOzf/Pm5kJLRZbMmWDRyRzV2DygmXFMGc2N69dhIip0T1OHNi0wcIw64F4X5AXz9PbB8IF94cPGPwmP+rVq8HhliuvMkikTKpZXEsM229ihUxslxiyyoN1kaNySdz9lCvXYIuFD8dLZsmXmHjYKL2jXsT/evf/I5s00/DW0wkVhQbT8GBRynIyfNE+0gBQmyZFeLAnS7yHxpJoT06RJxTPGKROaVsoo/lszlInit4YZOY5ZRYzfvJpchStWbcbI4X3C7Sold6St3QEMHmih80amSUwPmm/bpg2aGXnZ1P7YyTCDD/+FzatJaO0/5ISfv35ykVanhnaRxKBQYPwxV3e+jY8+nLt0BQH3H/C9HDWh+kCU8TR5jO7A35i+eTWlnj97+oKXlwkvtL0Y3bw0C7KGRIcYHDTv6uqKy+fPIHfWTKIn8gl8/wFffv+Hnj2DJzeo+Fc2r6YYLDKkaJ6rX6cmcgUJXg/K2s3WqFujGnLlyC56wsd5mhsePISx9lIMC6o1SKET5LFXzTv0mDx55BUMaigR5OWmla/8+YLs5qEDEp4UM45fv1GggCkzvpT7OiXLuLt7o1vXELITVcSGvRQjA9pBfcyo/n+1Lk1KeQhTvGGJrdhA7z59kD1/UaMeQ4eqg7v/ZVKYmKBrhzbc6g1LbBF5cubgsRwXrqjjlEKjdPGiwcQWcdDxKMYON7yKe0yhbOniqF+vumiFD7KA9RFbMZ28efMiXaZs+ISERjviJUkZZlmYfwWK2RrStwf69egaptgiKM6T6nNpBtAbCgkZijVt3siwaveRCZXP0fRGE6q4N11ii6AQA8og1gfyblOR6EKF8v0RWwQF2ocptiKRGO/hMjYx3cMVXfkXPFzRlZju4TI2MdnDFV35Vzxc0RVje7iiPdLDJZFIJBKJRBIzkYJLIpFIJBKJJJKJEMH16+dvfPr09Z84KPtD8u9A6+1f2fUdm4/vOvYak0gkClTuJW78BLH6kBiHCInhGjNmDN7xTan/DSZPnoxMmULO8pExXIYTXWO4nJycsH+/esuM2AhlBtHWS/RveLhx4wZmz54d7hiwmAYFIW/erLtIowoZw2UY0TmGa9SoUQgMDBSt2EnWrFkxZcoU0dLNvXv3MHHieGRlc/W/wKXLvnB0dBStiCFCBJdEGym4DCe6Ci6JJDzoI7iePn+B79++B9tiLLxIwWUY+gouiSSikDFc0YBrN26h77CxmLtEd0V9iUQSu6DtnhycjuHqjZs47ha8oKtEIol9SMEVxRw55oJ9DkewatEcpE6dim/7IpFIYi92ew8i4MED9Ojcnm9C3HvoaGW7F4lEEquRgisKoY08h42fir7dO/PibGlTpYL1jt3iWYlEEhsZN30OenbpwB9TRMeHDx/5JsgSiSR2IwVXFEJiq4t5mz/7yN1/9JjHdUgkktjJktXrUaJoYb4nJvHu/QdKg5NIJP8AUnBFER8+fsL2XXvRpIG6aq/rKU++lYtEIol9fPv2DXMWLUfHNi35+KeDYrgS/Pcf39ZEIpHEbqTgiiKev3jBa3rt3GeP2WwSnj5/Kdw8TqNZw7riFcoELZNIJZLYwZvAt/jy9St27bfHwFHj+TF60kxUrlCO7y2n4o2OEgTv3r3n3u+/2VNPIpFELVJwRRFHjrnCNE8uTB8/EuNHDEKD2tWRwiQ58pvm5c9Pm7sYk2YvQKV6zXH7zj3eJ5FIYi5vmWiiuM2NKxZj86qlWGe5AIHv3rE5YBR/3mb3PrTr3hfNO/bgbRVnL1zCsnUbkS5NagwaPRGfPn8Wz0gkkpiEFFxRBGUjmrdoJlqA++kzqFCuDH9stdWGW73zpk6AjdUK1G5hLj1dEkkM5+HjxzDNnRNJkiTmbQ825nPlyM76cvF266aNsXTudP5YkxETp2NI356IFy8eZk0cA4sBI8QzEokkJiEFVxSRMEECFC6Ujz/+8eMH7PYcwKKZk3m7VPGiSJNaKZhokjyZXFqUSGIBqVOlQk4msFRs2r4TM8aPFC0gQYL/EDdO8Aj65y9fInmypPxxwoQJ4eziyqvdSySSmIUUXFFE/To1eNAssXzdJnRt3xaZM2bgbRJclMlE7HdwQhfz1ogbV35VEklMJnOmDHgmspCdT7ghbZpUaNJAHbMZEt+//xCPgDhMkP3+9RvfpOCSSGIc8i4eRZQrVQJup07jmOtJpDQxQf+eXcUzaihrkQJl50wZL3okEklMJV2aNGhQuwZ2H3DA7XsBWDQz9L3rVGgaW9zTzUTXf/FlVqNEEtOQgiuKSJI4MVYvnoPa1auie6d2oleN15lzeP0mEKMG98ONW7dlJWqJJIZD3qnJY4ajdbNG6GfRhbf1IX3aNAh8+44/pizH6pUr8OVHiUQSs5CCKxpy5vxFNGrXBb2HjEamfCXQolMPvSdniUQSM/H09sHqjdYIuP8Am23seCkIYvbksViyah2P9Rw7bTa2rrHk/RKJJGYR57eMxo5w3N3d4X/lLNq1aCp6DIPSxz99Vtfboeyk9GnTipZuAh49w9Y99pgzZ47oiVlkyZIFfl4nkOC/+KIn8mneuTe22dgiffr0okcH1taAk7NoxFJevgDs7QFZfDPCGNC/P8YOtECaVEryiz58/PgJP37+4MbVr1+/eaA8jX3i9Zs3eP/hI1KmSMHLx+hizbZdqFW3AYoXLy56Yg5Pnz7F+NEjsWLeNNET+Xz78QvVm7TBxYsXRU8IdOsGvHgpGrEUypRdvlw0JJGFFFyRwN8KrvAgBZfh6CW41q4FajUWjVjKxlXA1CmUJic6JH9LeATX3yIFl2HoLbgGDQKGjBWNWMqyeexYJhqSyCJ6CS5HR+DSJdGIYJIlAwYOFI3IRQouw5GCKwqJLoLr509g61bg61fREYHQkny+fECNGqIjcpGCyzCk4IpijC24zp0DvnwRjQgmY0YgTx7RiF5EL8HVsSMwYbYyOUYkCdhNnC4oS+PEPkjBZThScEUh0UVwUQX1+vWB6YtERwSSKgmwfAmwfr3oiFyk4DIMKbiiGGMLrhq12BF2SRSDMUkMnDkN2NiIjuiFDJqXSKIz5PV591Y0wsk7JcMtRvAfE30kgCP6yMCsXlnLThIT+fYV+JssdfKp/FDXcosW5MwNtGkf8Ufn4OWVohNyBpJI/hZaAjtxNPhx7454wV9guQiIr8Prt3cXMGkMcOuG6AgF+iznz4qGRCKJcN6/B65f0z5obP7+y3I+JLZmTlVEU3ihnx02IPKW8CR6E4MEF7toPn3UPkj108UUtJ9eK5EYC8oky2PKBNBY4Mpl5XGuPMCjR0DLhsDZM+KFBrJpPVCtBpBE2dblD7TZcZaswOSZwKC+YU/GzVoCLseBn9HMypVIYgvkiabM8iZ1gMcPlbAYMsQ2rAMsOlIKqnihAXChNBAYO1GZYwir1UzI3QR6dtE/1pE8u3OY4bZxreiQRBUxR3BR4b89dkC5IkD7FoDdduDpE+D1K2DHNqBCcWBAT2CXLRD4l0swEokhkAcqcWLlWuzWA8iRkwmu3EClKkCpssAsZqGGB78r7OeVDc3/4HRYmXzLV1DKONBSQViCiyb/uvWZpaxfZfNoiy8Ts/OZyCyRj92I+gPrVwHfvgHensDU8Ur/jElMqLIbiywULDEmKVMyocUMrMyZgRq1gfwFgCLFmDBiBtHdO8CBPeKFBnDpAhvnFdUGFxlgSZIBpuw6z5YNeP5M6dcHShp785oZhJGUlBaR+LFxvoCN83bNgNGD1ULxlBsb/zOAtk2YCB0G7GQaIIYRcwRXihRAy7bKRDpkJNC9N7u4swBp0gKtzdkL2E1lCLP8uzLRRRe/RGJMaMkuYyZ2nQa59gLuAUnZZGcozo5A05baCSQkrmibp/adlDZZ1U8fswd6eHQLFwUux4DJNjToBla9lvJ43lKgFxNdFOhPN6WKTNwmZTemSWxC7t5HseolEmNycC9QpYb2mCVjiLxbusICwmKnDdBJxCS9fwc4HATMOyrtl8y4M3SJsFN3JvzYZ4zuFCahysb2VWZw9mWCy4KNZ6JyNaB5a8XwGjGOCS9xLmIQMWtWesUuMrqYCyobO//h1Ut2M/quCDCJJCo456N4tTQ57Qncuc2sNSYODGX1MiBnLtEQUEwYTd55mYVLPHsqJneNCT4kSIAUKwl8UhfUjZFcPA9kzxE8o/IiE7yZ5PiXRCE3rgMVKokGg5wDa1coHu+mLUSnnlDGLnm4VIbDhrVAOTOlTSLO8yRgaEY3fY7bt0QjmnPEQfHkZ80uOgSbNyghG+nSi46YRcwSXL7MQqcbTMrUokNwaD+QMCGQNp3okEiMDHm4kiVXJoo9O5lV1kkJmj1+igmBzMprvjOjgA7yTGmi6ldBj0mo0TKAJgvnsvfKpCxRkqeLlgjpdwa1qEOiSFE2UbuLRgzlAjvPlOEUlNNewZdfJRJjQiEFJLLIk3z4INDVHMidF9jFHidKrDxHXuqgYQAUWK/qV0HGFY1tFa4n2NhlcwnFbtHcQkH6ms/rWkKneSboXENL8F+YmIvubN8M1G2obVjR32K/V4lJjaHELMFF7tDUadhJ36e4WzWPtuwilMsIkqiAvEYUbzVwGFC9JlCfTRRkTVKMoQqaED2Y2DErLpYBBTTxtmvOBIOHetIkwUWPNScbmoxdjzORNQ8YN0k58rDJPHceRXDRZLRpnWJ8zJ8tfigI6TMA/jHEwg2JC+eYdcsMK3dX9XHUEbh5jZ33WF4vTRJ9ofFLY7lqDTYmmUFQkol/CicoWEi8gPHiORu3I4D2TDB8+CA6GbfYmGzNrl3NJX+Kt0qUSDQYFK+1eiOwjgkRGvsUNkP3Qh9vxfCaOEa8UEDB9bf9lflAEwrNeawx/0RH3gYyg5N99tbtRYeAzgnNi1XZHBtDCbvw6VxmVZN70xgcZzeUddu1LXYVlH1oVgyYPAsoU150Mp4/BbqzL8bBJfgSjAoqfLqE3YTSsAvUCFARP/+i+VGqVTPRE/k8vHsfgTPmo1y5cqIngqEJIqjHJQLZameHpk77mcYw3n5+mzv1gkXpMsz4ZNZnSFxjN/LZS0QjBBwPsXEyA3Bjk58KCm6fMBo46ys6BI3rAH0Hsn/ZtUFDbyMTSY2aKvFfKuhaL8eEmfdFdfwXxXCULQqcYoJDta9m3WrAwmVAMfbaIX0B9v3DxETxjp06CXTprrxOxUkmTi6x9xw0VHQI5k1nvz+9boOFxN/Nm8rj7Nkj16gh0ejpxb6YnaIjCJfOAx3YzWrbbsVjoOK4E7OItzBBq7EEE5TUSYHObJ4oxuYQI+Bz7hyyL5uH5GmNM+cQDpZrUefla3YvjqQY1kicA758+YIT37+g+tRxoify+fb9J9watECzBg1ETwhcvQosC6NgLnmeUqdmxo5G+ED/nuzekxBYulJ0MCiAvlEtJtCYuKKxSoaUzValhpTmPOTuxsaBFbDBWmnXrsQMi1PKvZE83JQEU9ZMESDX2edby36HJRNZxP49irHWsInyXAEN0UefaehIIF8B0SHo3Tns6uyUpENiMiLwZfPqmBCSeG5eB1oxo3UuO5ea15s/m4cWzVHGeaogq1wq0lOsN5tPm7C/3RjQyhoVxtWTmFNpnpYTO7UGzrEvKp7G2rXPaaAfu7HQl5BQwyLQRFaaj/bE6Erzo5mAIVf90lWig0E1skjgaIowYtcOYLcdYLdPWX4sXlK95KiC0r3LFmE/e4ZNLKJS+Yf3igg7za5zEzap0NLgCnY92zDxQSxk3/ujh8Bw9nvJC0RB8uQB04QmYlq+aNFGdAiiU6X5JmzMLN8gOoKwhI1h8vIdCLKZ+EQmbCkVf6ON6NBBajZxT2Y3c/o+jYCsNG8YMbrSPI3XEvmB9Uz0U2A3QcZDGTaGybCaMVfpI0ggtWLzSceuTBiwcUjhBw1ZO2hiDY3h+bMAWxHk3qktMzTYaykTckg/ZZlSxTU/9uWvUAsu8phTwg0JqHv31IH2BC1zLloePPxmEftdE8aLhhGYzL7nUZNEIwi7bYE57Hmvy9pzEhmGtMp1ihleIRlWJLh6WxjtXs+TIWgrIT2JOWtwVEiOVK2m2CLIpUo3IKpQLZFEBWRFBo0f8vNVlvCIgLvKv0QbNuG9eqFYpBT8HlRsETTJ0HIBebVU0IRMKedkH9FkvmM7ME1j6ZCEFsV1tGCWIQXw05JmUO7eVjL6YioX2U2oRCnR0OA6u+EULSEaEomRoaUuGpMUr6WCdocgI4mW/AlVOQYSCmSYzWHigbyy5KnSlcVMCWA0nlVQGYgb7B5ovx+w2io6Q4CyF/OaAmaVlHgt+jkV33/ojnUmQzdrVuMdobl5KBuzRGltsUVC1eEAE5NMPIblZSevk67fGRmHAWKLiDmCy8ONXYTsDwzKsSNKSnhkLnVIJLo4cQyYOkHZOodEDk0UKiiwk65JskgPHxKdApVXiyZFXZCH17yTdp0d6qOJ+uIFpfo81fehejwqxo4ApswEHE8ocVrkddOCzXDnmWCJyZm895hwpdgYTWjJkzKvKINLIjE2+3cr3mUSMQf3KeOdICdA/oJKeADFUgUGKv1EViaeKAOvVr3gZWRU0FZUmstpVLiU+voMCPlnVNDckjiJ8pjeg2LECPLE0bJndIaysM94AR27iQ4BnVeqUtAhem/dExbRX6VQyYeTLsrNjWK0yEonKCCZ6p6QdyFbDu0AZYnEGNAGrCRyXNgEQWKIYiZUdO2hLAdQbFa/IGv8FGBPxRFDgybWw/aiIaA6VFWqAcNGAcWCeHTIQs2WXUmX3mILeJ1SrG4V9+/rXqqPCZCV7uSgBB1T6QdVFATFFFFwMN1IaA6QSIxNs1bAAkvAgxkzffqrDRoSVPbOrG+g4m2mcauCxmXy5IrHOjRo2ZHubypS6liepmufYjbpPvnyhdI3fbYSavOL/R5Xdu9sLOYlSjarU195HF2h2lsUK1azjugQ3L7JzpmJUnczBhP9BRdZsLSNyd7D6gJoNOFSLArFqdgzIVabWQpUh0siMSYkYIIempCHS9PzSnFeNOnRJEk1tEKD3ouuffLqaELvF/T3EHFYPy2vEyS2ZsxTJn0VFMSvGWMWU6ClhAdMLNJyDcVukYVONxa6mTxhVi+Nfer/+gUIfCN+SCIxEppjn8agJtRHMT6aRU8/MiNhzXKlXhdds6FBRtmYYcoYCAl6zqwisGyNerynzwi0asvGCRNhCyjhR8wXZ9j8oGkURjdolxhaKbDoq2Rc37+n3Ou3bmBCzFcRoFusFHEZQwlyhURDyENAhc5UB+1RRxcyWbqa/UELpEliHHHixjPqYXzY5FG8FGBtp1+214QpSpCopqcqJKhcBC1jULFEqlNFQkQF7eVIlmF0X07QBQlM0/zaB3nx6PsL2q/LAyCJWZA2MOZhbCguq34jRTyEVSme5ghaSjweJElEE8ps5GM7jXbmHo0FiiFVLS1aMUHWo7fiPYquUKZm30HA4BHKTjLZc7LviH1JXXoA/YYAg0R/DPZyxZwsxb/ByFmKlPViyX5XQiNmff1ilk7lKlXQpUsX0ROzsLCwQAIjZ8l9+PABy5cvR6rQMsn0yVKMTGgZ7elToOhflDM4czr0GKeYkqX4Nxg5S3HKlCl48ugB4ml6GSOZN2/fYerUaShQIEjKfwzg9evX6NGjBzKHtcwWgdCt7yczZtaGdU2ElaUY2ZDgovFLS2rhgTzlFDhPIQkhQffHZctEwwh07wWMDiFL8W+gLMVB/QCbUDKWoxApuCSS0IhqwWUMpOCSSEImqgWXMZCCyyhEvyVFSoWP6IOyyChuRiKRRG9o+fTzp4g/KHYmGtmWEsm/DY3FSDh+0b/Rl+jl4XJwAC5fFo0IhtbDDagIK5FwpIfLeFDV7aFD9YtZCw/lywPdgqSbSyRhIT1cEQ/tWhH4VjQiEFoca9WKzWkblXY0I3oJLokkuiEFl0TybyMFlySCkIJLIgmNbduAQ4dFI5by8jng6Bi9M5gkkqiieXP2v6jIajYiyRIrc50kUpGCSyKRSCQSiSSSif51uCQSiUQikUhiOFJwSSQSiUQikUQyUnBJJBKJRCKRRDJScEkkEolEIpFEMlJwSSQSiUQikUQyUnBJJBKJRCKRRDJScEkkEolEIpFEMlJwSSQSiUQikUQyUnBJJBKJRCKRRDJScEkkEolEIpFEKsD/cqTvXC5rQFYAAAAASUVORK5CYII=)"
      ],
      "metadata": {
        "id": "0KSWslAgW9oG"
      }
    },
    {
      "cell_type": "code",
      "source": [
        "qaoa_dev = qml.device(\"default.qubit\",wires=range(2))\n",
        "\n",
        "@qml.qnode(qaoa_dev)\n",
        "def qaoa_encoder(data,weights):\n",
        "  qml.QAOAEmbedding(features=data,weights=weights,wires=range(2),local_field=\"Y\")\n",
        "  return qml.state()"
      ],
      "metadata": {
        "id": "vgG_Dm9do_Rn"
      },
      "execution_count": null,
      "outputs": []
    },
    {
      "cell_type": "code",
      "source": [
        "# define features \n",
        "features = [4+2j,5]\n",
        "# get weights\n",
        "shape = qml.QAOAEmbedding.shape(n_layers=2,n_wires=2)\n",
        "print(\"This is the required shape: \",shape)\n",
        "weights = np.random.random(shape)\n",
        "print(\"Have a look at the weights: \")\n",
        "print(weights)"
      ],
      "metadata": {
        "colab": {
          "base_uri": "https://localhost:8080/"
        },
        "id": "AjYn94llh423",
        "outputId": "776256be-c6d4-4cad-abd5-300f6958bbc7"
      },
      "execution_count": null,
      "outputs": [
        {
          "output_type": "stream",
          "name": "stdout",
          "text": [
            "This is the required shape:  (2, 3)\n",
            "Have a look at the weights: \n",
            "[[0.83476753 0.38038711 0.26218502]\n",
            " [0.83938557 0.35331697 0.44225233]]\n"
          ]
        }
      ]
    },
    {
      "cell_type": "code",
      "source": [
        "qaoa_encoder(data=features,weights=weights)"
      ],
      "metadata": {
        "colab": {
          "base_uri": "https://localhost:8080/"
        },
        "id": "kkP4y6uDiNNQ",
        "outputId": "f5913f54-e1ad-48ee-c11f-00e5a48a0697"
      },
      "execution_count": null,
      "outputs": [
        {
          "output_type": "execute_result",
          "data": {
            "text/plain": [
              "tensor([2.8061383 +1.75514429j, 0.00346428-7.5773217j ,\n",
              "        2.12158434+1.96276329j, 0.18583484-6.76839035j], requires_grad=True)"
            ]
          },
          "metadata": {},
          "execution_count": 32
        }
      ]
    },
    {
      "cell_type": "code",
      "source": [
        "print(qml.draw(qnode=qaoa_encoder,expansion_strategy=\"device\")(features,weights))"
      ],
      "metadata": {
        "colab": {
          "base_uri": "https://localhost:8080/"
        },
        "id": "g1YG7s5vidjt",
        "outputId": "3e86b765-41aa-47d5-d69b-16d2703fa916"
      },
      "execution_count": null,
      "outputs": [
        {
          "output_type": "stream",
          "name": "stdout",
          "text": [
            "0: ──RX(4.00+2.00j)─╭MultiRZ(0.83)──RY(0.38)──RX(4.00+2.00j)─╭MultiRZ(0.84)──RY(0.35)\n",
            "1: ──RX(5.00)───────╰MultiRZ(0.83)──RY(0.26)──RX(5.00)───────╰MultiRZ(0.84)──RY(0.44)\n",
            "\n",
            "───RX(4.00+2.00j)─┤  State\n",
            "───RX(5.00)───────┤  State\n"
          ]
        }
      ]
    },
    {
      "cell_type": "markdown",
      "source": [
        "### Train the Embedding"
      ],
      "metadata": {
        "id": "9uleQp9bmyNj"
      }
    },
    {
      "cell_type": "code",
      "source": [
        "qaoa_dev = qml.device(\"default.qubit\",wires=range(2))\n",
        "\n",
        "@qml.qnode(qaoa_dev)\n",
        "def trainable_qaoa_encoder(weights,data):\n",
        "  qml.QAOAEmbedding(weights=weights,features=data,wires=range(2),local_field=\"Y\")\n",
        "  return qml.expval(qml.PauliZ(0))"
      ],
      "metadata": {
        "id": "PV9SmmKidMtA"
      },
      "execution_count": null,
      "outputs": []
    },
    {
      "cell_type": "code",
      "source": [
        "opt = qml.GradientDescentOptimizer()\n",
        "steps = 10\n",
        "for i in range(steps):\n",
        "  weights = opt.step(lambda w: trainable_qaoa_encoder(data=features,weights=w),weights)\n",
        "  print(f\"This is step {i} and weights are {weights}\")"
      ],
      "metadata": {
        "colab": {
          "base_uri": "https://localhost:8080/"
        },
        "id": "oIQwqVyalQal",
        "outputId": "52a2a3b1-9e88-4e43-f6f5-7210b13c20c2"
      },
      "execution_count": null,
      "outputs": [
        {
          "output_type": "stream",
          "name": "stdout",
          "text": [
            "This is step 0 and weights are [[0.89044291 0.42938994 0.26478117]\n",
            " [0.79474026 0.27438391 0.44225233]]\n",
            "This is step 1 and weights are [[0.94489863 0.47708312 0.26800971]\n",
            " [0.7393744  0.19289975 0.44225233]]\n",
            "This is step 2 and weights are [[0.99664823 0.52219862 0.27172785]\n",
            " [0.67340875 0.1087978  0.44225233]]\n",
            "This is step 3 and weights are [[1.04398885 0.56336974 0.27573443]\n",
            " [0.59742566 0.02212334 0.44225233]]\n",
            "This is step 4 and weights are [[ 1.08508829  0.59920342  0.27978268]\n",
            " [ 0.51242978 -0.06693461  0.44225233]]\n",
            "This is step 5 and weights are [[ 1.11810732  0.62836414  0.2836037 ]\n",
            " [ 0.41975369 -0.15802819  0.44225233]]\n",
            "This is step 6 and weights are [[ 1.14133618  0.64965239  0.28693744]\n",
            " [ 0.32093136 -0.25064893  0.44225233]]\n",
            "This is step 7 and weights are [[ 1.15332173  0.66206563  0.28956592]\n",
            " [ 0.21757548 -0.34413511  0.44225233]]\n",
            "This is step 8 and weights are [[ 1.15297088  0.66484358  0.29134297]\n",
            " [ 0.11129401 -0.43768709  0.44225233]]\n",
            "This is step 9 and weights are [[ 1.13963193  0.65751306  0.2922168 ]\n",
            " [ 0.00366702 -0.5303922   0.44225233]]\n"
          ]
        }
      ]
    },
    {
      "cell_type": "markdown",
      "source": [
        "## IQPEmbedding "
      ],
      "metadata": {
        "id": "Jdqpb06Tf3KP"
      }
    },
    {
      "cell_type": "markdown",
      "source": [
        "Data Type --> Int/Float/Complex"
      ],
      "metadata": {
        "id": "RbMsZVuEiiFV"
      }
    },
    {
      "cell_type": "markdown",
      "source": [
        "Encodes $n$ features into $n$ qubits using diagonal gates of an IQP circuit."
      ],
      "metadata": {
        "id": "YpAd-UAdgIV2"
      }
    },
    {
      "cell_type": "code",
      "source": [
        "iqp_dev = qml.device(\"default.qubit\",wires=range(3))\n",
        "\n",
        "@qml.qnode(iqp_dev)\n",
        "def iqp_encoder(data):\n",
        "  qml.IQPEmbedding(data,wires=range(3),n_repeats=1)\n",
        "  return [qml.expval(qml.PauliZ(q)) for q in range(3)]"
      ],
      "metadata": {
        "id": "nVmd0TmKf6oJ"
      },
      "execution_count": null,
      "outputs": []
    },
    {
      "cell_type": "code",
      "source": [
        "print(qml.draw(qnode=iqp_encoder,expansion_strategy=\"device\")([7,8,9]))"
      ],
      "metadata": {
        "colab": {
          "base_uri": "https://localhost:8080/"
        },
        "id": "q_IGeFVhi3Yt",
        "outputId": "aa11092b-f70d-4d60-ad3f-7be4605c6cd2"
      },
      "execution_count": null,
      "outputs": [
        {
          "output_type": "stream",
          "name": "stdout",
          "text": [
            "0: ──H──RZ(7.00)─╭MultiRZ(56.00)─╭MultiRZ(63.00)─────────────────┤  <Z>\n",
            "1: ──H──RZ(8.00)─╰MultiRZ(56.00)─│───────────────╭MultiRZ(72.00)─┤  <Z>\n",
            "2: ──H──RZ(9.00)─────────────────╰MultiRZ(63.00)─╰MultiRZ(72.00)─┤  <Z>\n"
          ]
        }
      ]
    },
    {
      "cell_type": "markdown",
      "source": [
        "### Custom Pattern"
      ],
      "metadata": {
        "id": "1KSgFcjphbLR"
      }
    },
    {
      "cell_type": "code",
      "source": [
        "custom_pattern = [[0,1],[0,2],[1,2]]\n",
        "iqp_dev = qml.device(\"default.qubit\",wires=range(3))\n",
        "\n",
        "@qml.qnode(iqp_dev)\n",
        "def custom_iqp_encoder(data):\n",
        "  qml.IQPEmbedding(data,wires=range(3),n_repeats=2,pattern=custom_pattern)\n",
        "  return [qml.expval(qml.PauliZ(q)) for q in range(3)]"
      ],
      "metadata": {
        "id": "aXr5sGkxhOkQ"
      },
      "execution_count": null,
      "outputs": []
    },
    {
      "cell_type": "code",
      "source": [
        "print(qml.draw(qnode=custom_iqp_encoder,expansion_strategy=\"device\")([7.5,8+0.5j,9]))"
      ],
      "metadata": {
        "colab": {
          "base_uri": "https://localhost:8080/"
        },
        "id": "i46Gx_4jiHLA",
        "outputId": "0760b70b-04d6-40c5-c652-3d96f2dba06c"
      },
      "execution_count": null,
      "outputs": [
        {
          "output_type": "stream",
          "name": "stdout",
          "text": [
            "0: ──H──RZ(7.50)───────╭MultiRZ(60.00+3.75j)─╭MultiRZ(67.50)──H─────────────────────RZ(7.50)\n",
            "1: ──H──RZ(8.00+0.50j)─╰MultiRZ(60.00+3.75j)─│───────────────╭MultiRZ(72.00+4.50j)──H───────\n",
            "2: ──H──RZ(9.00)─────────────────────────────╰MultiRZ(67.50)─╰MultiRZ(72.00+4.50j)──H───────\n",
            "\n",
            "──────────────────╭MultiRZ(60.00+3.75j)─╭MultiRZ(67.50)───────────────────────┤  <Z>\n",
            "───RZ(8.00+0.50j)─╰MultiRZ(60.00+3.75j)─│───────────────╭MultiRZ(72.00+4.50j)─┤  <Z>\n",
            "───RZ(9.00)─────────────────────────────╰MultiRZ(67.50)─╰MultiRZ(72.00+4.50j)─┤  <Z>\n"
          ]
        }
      ]
    },
    {
      "cell_type": "markdown",
      "source": [
        "## SqueezingEmbedding"
      ],
      "metadata": {
        "id": "UvdMWGxEjVN3"
      }
    },
    {
      "cell_type": "markdown",
      "source": [
        "Data Type --> Int/Float/Complex"
      ],
      "metadata": {
        "id": "Esk4GIrF5Meh"
      }
    },
    {
      "cell_type": "markdown",
      "source": [
        "Encodes N features into the squeezing amplitudes r≥0 or phases \n",
        "ϕ∈[0,2π) of M modes, where N≤M.\n"
      ],
      "metadata": {
        "id": "km72H41YyMDK"
      }
    },
    {
      "cell_type": "markdown",
      "source": [
        "$S(z) = exp(\\frac{1}{2}(z^{*}\\hat{a}^2-z\\hat{a}^{\\dagger2}))$\n",
        "\n",
        "$ z= re^{i\\phi} $"
      ],
      "metadata": {
        "id": "Ej0FoIuXxeG3"
      }
    },
    {
      "cell_type": "markdown",
      "source": [
        "$$S(z) = exp(\\frac{r}{2}(e^{-i\\phi}\\hat{a}^2-e^{i\\phi}\\hat{a}^{\\dagger2}))$$"
      ],
      "metadata": {
        "id": "qUOqbqa_kYhN"
      }
    },
    {
      "cell_type": "code",
      "source": [
        "s_dev = qml.device(\"default.gaussian\",wires=range(3))\n",
        "\n",
        "@qml.qnode(s_dev)\n",
        "def s_encoder(data):\n",
        "  qml.SqueezingEmbedding(data,wires=range(3),method='amplitude',c=0.1)\n",
        "  qml.QuadraticPhase(0.1,wires=1)\n",
        "  return qml.expval(qml.NumberOperator(wires=1))"
      ],
      "metadata": {
        "id": "BTah8JCQjYur"
      },
      "execution_count": null,
      "outputs": []
    },
    {
      "cell_type": "code",
      "source": [
        "print(qml.draw(s_encoder)([4,5,6]))"
      ],
      "metadata": {
        "colab": {
          "base_uri": "https://localhost:8080/"
        },
        "id": "0FPs4oMJ0E-F",
        "outputId": "d95fbab1-3641-4c27-e706-c0f4e8494575"
      },
      "execution_count": null,
      "outputs": [
        {
          "output_type": "stream",
          "name": "stdout",
          "text": [
            "0: ─╭SqueezingEmbedding(M0)──────────┤     \n",
            "1: ─├SqueezingEmbedding(M0)──P(0.10)─┤  <n>\n",
            "2: ─╰SqueezingEmbedding(M0)──────────┤     \n"
          ]
        }
      ]
    },
    {
      "cell_type": "markdown",
      "source": [
        "## References"
      ],
      "metadata": {
        "id": "K_U4IV_uL30K"
      }
    },
    {
      "cell_type": "markdown",
      "source": [
        "* [Video by Parth G on Ladder Operators](https://youtu.be/ocJBIXua6zQ)\n",
        "\n",
        "* [Video by Professor M does Science on Boson Creation & Boson Annihilation Operators](https://youtu.be/BhK6u0bMqG0)\n",
        "\n",
        "* [QAOA Explained by Qiskit](https://qiskit.org/textbook/ch-applications/qaoa.html)\n",
        "\n",
        "* [IQP Embedding Paper](https://arxiv.org/abs/1804.11326)\n",
        "\n",
        "* [Quantum Computing Projects](https://youtube.com/playlist?list=PLJk_IGUjQllcYPHhuzIUZMsu9hD48BiK0)\n",
        "\n",
        "* [Visually Understanding Quantum Computing](https://youtube.com/playlist?list=PLJk_IGUjQllcYPHhuzIUZMsu9hD48BiK0)\n",
        "\n",
        "* [Pennylane Documentation](https://docs.pennylane.ai/en/stable/introduction/templates.html)"
      ],
      "metadata": {
        "id": "-2tpT6jrL6sZ"
      }
    },
    {
      "cell_type": "markdown",
      "source": [
        "## Follow for more\n",
        "\n",
        "[Join the telegram channel](https://t.me/ml_qml)\n",
        "\n",
        "[YouTube Channel](https://www.youtube.com/c/BlochSphere)"
      ],
      "metadata": {
        "id": "hbBKcG8uM_6I"
      }
    }
  ]
}